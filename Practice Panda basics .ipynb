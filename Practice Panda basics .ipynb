{
 "cells": [
  {
   "cell_type": "code",
   "execution_count": 1,
   "id": "36591d6a",
   "metadata": {},
   "outputs": [],
   "source": [
    "import pandas as pd\n",
    "import numpy as np"
   ]
  },
  {
   "cell_type": "code",
   "execution_count": 2,
   "id": "e2b9fbd1",
   "metadata": {},
   "outputs": [
    {
     "data": {
      "text/html": [
       "<div>\n",
       "<style scoped>\n",
       "    .dataframe tbody tr th:only-of-type {\n",
       "        vertical-align: middle;\n",
       "    }\n",
       "\n",
       "    .dataframe tbody tr th {\n",
       "        vertical-align: top;\n",
       "    }\n",
       "\n",
       "    .dataframe thead th {\n",
       "        text-align: right;\n",
       "    }\n",
       "</style>\n",
       "<table border=\"1\" class=\"dataframe\">\n",
       "  <thead>\n",
       "    <tr style=\"text-align: right;\">\n",
       "      <th></th>\n",
       "      <th>a</th>\n",
       "      <th>b</th>\n",
       "      <th>c</th>\n",
       "      <th>d</th>\n",
       "      <th>e</th>\n",
       "      <th>f</th>\n",
       "      <th>g</th>\n",
       "      <th>h</th>\n",
       "    </tr>\n",
       "  </thead>\n",
       "  <tbody>\n",
       "    <tr>\n",
       "      <th>0</th>\n",
       "      <td>0.548130</td>\n",
       "      <td>0.797594</td>\n",
       "      <td>0.653842</td>\n",
       "      <td>0.601969</td>\n",
       "      <td>0.786282</td>\n",
       "      <td>0.828494</td>\n",
       "      <td>0.371886</td>\n",
       "      <td>0.859617</td>\n",
       "    </tr>\n",
       "    <tr>\n",
       "      <th>1</th>\n",
       "      <td>0.096927</td>\n",
       "      <td>0.614580</td>\n",
       "      <td>0.977355</td>\n",
       "      <td>0.753195</td>\n",
       "      <td>0.290163</td>\n",
       "      <td>0.186536</td>\n",
       "      <td>0.501304</td>\n",
       "      <td>0.729398</td>\n",
       "    </tr>\n",
       "    <tr>\n",
       "      <th>2</th>\n",
       "      <td>0.701252</td>\n",
       "      <td>0.423946</td>\n",
       "      <td>0.681762</td>\n",
       "      <td>0.133792</td>\n",
       "      <td>0.827916</td>\n",
       "      <td>0.795083</td>\n",
       "      <td>0.758053</td>\n",
       "      <td>0.335071</td>\n",
       "    </tr>\n",
       "    <tr>\n",
       "      <th>3</th>\n",
       "      <td>0.149905</td>\n",
       "      <td>0.054076</td>\n",
       "      <td>0.547535</td>\n",
       "      <td>0.879373</td>\n",
       "      <td>0.884265</td>\n",
       "      <td>0.938626</td>\n",
       "      <td>0.895571</td>\n",
       "      <td>0.768198</td>\n",
       "    </tr>\n",
       "  </tbody>\n",
       "</table>\n",
       "</div>"
      ],
      "text/plain": [
       "          a         b         c         d         e         f         g  \\\n",
       "0  0.548130  0.797594  0.653842  0.601969  0.786282  0.828494  0.371886   \n",
       "1  0.096927  0.614580  0.977355  0.753195  0.290163  0.186536  0.501304   \n",
       "2  0.701252  0.423946  0.681762  0.133792  0.827916  0.795083  0.758053   \n",
       "3  0.149905  0.054076  0.547535  0.879373  0.884265  0.938626  0.895571   \n",
       "\n",
       "          h  \n",
       "0  0.859617  \n",
       "1  0.729398  \n",
       "2  0.335071  \n",
       "3  0.768198  "
      ]
     },
     "execution_count": 2,
     "metadata": {},
     "output_type": "execute_result"
    }
   ],
   "source": [
    "pd.DataFrame(np.random.rand(4,8), columns=list('abcdefgh'))"
   ]
  },
  {
   "cell_type": "code",
   "execution_count": 3,
   "id": "d735a817",
   "metadata": {},
   "outputs": [
    {
     "data": {
      "text/html": [
       "<div>\n",
       "<style scoped>\n",
       "    .dataframe tbody tr th:only-of-type {\n",
       "        vertical-align: middle;\n",
       "    }\n",
       "\n",
       "    .dataframe tbody tr th {\n",
       "        vertical-align: top;\n",
       "    }\n",
       "\n",
       "    .dataframe thead th {\n",
       "        text-align: right;\n",
       "    }\n",
       "</style>\n",
       "<table border=\"1\" class=\"dataframe\">\n",
       "  <thead>\n",
       "    <tr style=\"text-align: right;\">\n",
       "      <th></th>\n",
       "      <th>col one</th>\n",
       "      <th>col two</th>\n",
       "    </tr>\n",
       "  </thead>\n",
       "  <tbody>\n",
       "    <tr>\n",
       "      <th>0</th>\n",
       "      <td>100</td>\n",
       "      <td>300</td>\n",
       "    </tr>\n",
       "    <tr>\n",
       "      <th>1</th>\n",
       "      <td>200</td>\n",
       "      <td>400</td>\n",
       "    </tr>\n",
       "  </tbody>\n",
       "</table>\n",
       "</div>"
      ],
      "text/plain": [
       "   col one  col two\n",
       "0      100      300\n",
       "1      200      400"
      ]
     },
     "execution_count": 3,
     "metadata": {},
     "output_type": "execute_result"
    }
   ],
   "source": [
    "df = pd.DataFrame({'col one':[100, 200], 'col two':[300,400]})\n",
    "df"
   ]
  },
  {
   "cell_type": "code",
   "execution_count": 4,
   "id": "4b9d4f50",
   "metadata": {},
   "outputs": [
    {
     "data": {
      "text/html": [
       "<div>\n",
       "<style scoped>\n",
       "    .dataframe tbody tr th:only-of-type {\n",
       "        vertical-align: middle;\n",
       "    }\n",
       "\n",
       "    .dataframe tbody tr th {\n",
       "        vertical-align: top;\n",
       "    }\n",
       "\n",
       "    .dataframe thead th {\n",
       "        text-align: right;\n",
       "    }\n",
       "</style>\n",
       "<table border=\"1\" class=\"dataframe\">\n",
       "  <thead>\n",
       "    <tr style=\"text-align: right;\">\n",
       "      <th></th>\n",
       "      <th>col_one</th>\n",
       "      <th>col_two</th>\n",
       "    </tr>\n",
       "  </thead>\n",
       "  <tbody>\n",
       "    <tr>\n",
       "      <th>0</th>\n",
       "      <td>100</td>\n",
       "      <td>300</td>\n",
       "    </tr>\n",
       "    <tr>\n",
       "      <th>1</th>\n",
       "      <td>200</td>\n",
       "      <td>400</td>\n",
       "    </tr>\n",
       "  </tbody>\n",
       "</table>\n",
       "</div>"
      ],
      "text/plain": [
       "   col_one  col_two\n",
       "0      100      300\n",
       "1      200      400"
      ]
     },
     "execution_count": 4,
     "metadata": {},
     "output_type": "execute_result"
    }
   ],
   "source": [
    "df = df.rename({'col one': 'col_one', 'col two': 'col_two'}, axis='columns')\n",
    "df"
   ]
  },
  {
   "cell_type": "code",
   "execution_count": 5,
   "id": "19745044",
   "metadata": {},
   "outputs": [
    {
     "data": {
      "text/html": [
       "<div>\n",
       "<style scoped>\n",
       "    .dataframe tbody tr th:only-of-type {\n",
       "        vertical-align: middle;\n",
       "    }\n",
       "\n",
       "    .dataframe tbody tr th {\n",
       "        vertical-align: top;\n",
       "    }\n",
       "\n",
       "    .dataframe thead th {\n",
       "        text-align: right;\n",
       "    }\n",
       "</style>\n",
       "<table border=\"1\" class=\"dataframe\">\n",
       "  <thead>\n",
       "    <tr style=\"text-align: right;\">\n",
       "      <th></th>\n",
       "      <th>col_one</th>\n",
       "      <th>col_two</th>\n",
       "    </tr>\n",
       "  </thead>\n",
       "  <tbody>\n",
       "    <tr>\n",
       "      <th>0</th>\n",
       "      <td>100</td>\n",
       "      <td>300</td>\n",
       "    </tr>\n",
       "    <tr>\n",
       "      <th>1</th>\n",
       "      <td>200</td>\n",
       "      <td>400</td>\n",
       "    </tr>\n",
       "  </tbody>\n",
       "</table>\n",
       "</div>"
      ],
      "text/plain": [
       "   col_one  col_two\n",
       "0      100      300\n",
       "1      200      400"
      ]
     },
     "execution_count": 5,
     "metadata": {},
     "output_type": "execute_result"
    }
   ],
   "source": [
    "df.columns = df.columns.str.replace(' ', '_')\n",
    "df"
   ]
  },
  {
   "cell_type": "code",
   "execution_count": 6,
   "id": "2b8b507f",
   "metadata": {},
   "outputs": [
    {
     "data": {
      "text/html": [
       "<div>\n",
       "<style scoped>\n",
       "    .dataframe tbody tr th:only-of-type {\n",
       "        vertical-align: middle;\n",
       "    }\n",
       "\n",
       "    .dataframe tbody tr th {\n",
       "        vertical-align: top;\n",
       "    }\n",
       "\n",
       "    .dataframe thead th {\n",
       "        text-align: right;\n",
       "    }\n",
       "</style>\n",
       "<table border=\"1\" class=\"dataframe\">\n",
       "  <thead>\n",
       "    <tr style=\"text-align: right;\">\n",
       "      <th></th>\n",
       "      <th>Yemeni people</th>\n",
       "      <th>Saudi people</th>\n",
       "    </tr>\n",
       "  </thead>\n",
       "  <tbody>\n",
       "    <tr>\n",
       "      <th>0</th>\n",
       "      <td>10000000</td>\n",
       "      <td>35</td>\n",
       "    </tr>\n",
       "    <tr>\n",
       "      <th>1</th>\n",
       "      <td>400000000</td>\n",
       "      <td>55</td>\n",
       "    </tr>\n",
       "  </tbody>\n",
       "</table>\n",
       "</div>"
      ],
      "text/plain": [
       "   Yemeni people  Saudi people\n",
       "0       10000000            35\n",
       "1      400000000            55"
      ]
     },
     "execution_count": 6,
     "metadata": {},
     "output_type": "execute_result"
    }
   ],
   "source": [
    "rename_df = pd.DataFrame({'Yemeni people':[10000000, 400000000],  'Saudi people':[35, 55]})\n",
    "rename_df"
   ]
  },
  {
   "cell_type": "code",
   "execution_count": 7,
   "id": "ae700f2e",
   "metadata": {},
   "outputs": [],
   "source": [
    "df.columns = [\"Yemini people\", \"Saudi people\"]"
   ]
  },
  {
   "cell_type": "code",
   "execution_count": 8,
   "id": "4393cd60",
   "metadata": {},
   "outputs": [
    {
     "data": {
      "text/html": [
       "<div>\n",
       "<style scoped>\n",
       "    .dataframe tbody tr th:only-of-type {\n",
       "        vertical-align: middle;\n",
       "    }\n",
       "\n",
       "    .dataframe tbody tr th {\n",
       "        vertical-align: top;\n",
       "    }\n",
       "\n",
       "    .dataframe thead th {\n",
       "        text-align: right;\n",
       "    }\n",
       "</style>\n",
       "<table border=\"1\" class=\"dataframe\">\n",
       "  <thead>\n",
       "    <tr style=\"text-align: right;\">\n",
       "      <th></th>\n",
       "      <th>Yemeni people</th>\n",
       "      <th>Saudi people</th>\n",
       "    </tr>\n",
       "  </thead>\n",
       "  <tbody>\n",
       "    <tr>\n",
       "      <th>0</th>\n",
       "      <td>10000000</td>\n",
       "      <td>35</td>\n",
       "    </tr>\n",
       "    <tr>\n",
       "      <th>1</th>\n",
       "      <td>400000000</td>\n",
       "      <td>55</td>\n",
       "    </tr>\n",
       "  </tbody>\n",
       "</table>\n",
       "</div>"
      ],
      "text/plain": [
       "   Yemeni people  Saudi people\n",
       "0       10000000            35\n",
       "1      400000000            55"
      ]
     },
     "execution_count": 8,
     "metadata": {},
     "output_type": "execute_result"
    }
   ],
   "source": [
    "df.columns = df.columns.str.replace(' ', '_')\n",
    "rename_df"
   ]
  },
  {
   "cell_type": "code",
   "execution_count": 9,
   "id": "5ade2578",
   "metadata": {},
   "outputs": [
    {
     "name": "stdout",
     "output_type": "stream",
     "text": [
      "   Yemeni people  Saudi people\n",
      "0       10000000            35\n",
      "1      400000000            55\n"
     ]
    }
   ],
   "source": [
    "print(rename_df)"
   ]
  },
  {
   "cell_type": "code",
   "execution_count": 10,
   "id": "792503e1",
   "metadata": {},
   "outputs": [
    {
     "ename": "NameError",
     "evalue": "name 'drinks' is not defined",
     "output_type": "error",
     "traceback": [
      "\u001b[0;31m---------------------------------------------------------------------------\u001b[0m",
      "\u001b[0;31mNameError\u001b[0m                                 Traceback (most recent call last)",
      "\u001b[0;32m<ipython-input-10-f2842b9e23d3>\u001b[0m in \u001b[0;36m<module>\u001b[0;34m\u001b[0m\n\u001b[1;32m      1\u001b[0m \u001b[0;31m#Reverse Row order\u001b[0m\u001b[0;34m\u001b[0m\u001b[0;34m\u001b[0m\u001b[0;34m\u001b[0m\u001b[0m\n\u001b[0;32m----> 2\u001b[0;31m \u001b[0mdrinks\u001b[0m\u001b[0;34m.\u001b[0m\u001b[0mloc\u001b[0m\u001b[0;34m[\u001b[0m\u001b[0;34m:\u001b[0m\u001b[0;34m:\u001b[0m\u001b[0;34m-\u001b[0m\u001b[0;36m1\u001b[0m\u001b[0;34m]\u001b[0m\u001b[0;34m.\u001b[0m\u001b[0mreset_index\u001b[0m\u001b[0;34m(\u001b[0m\u001b[0mdrop\u001b[0m\u001b[0;34m=\u001b[0m\u001b[0;32mTrue\u001b[0m\u001b[0;34m)\u001b[0m\u001b[0;34m.\u001b[0m\u001b[0mhead\u001b[0m\u001b[0;34m(\u001b[0m\u001b[0;34m)\u001b[0m\u001b[0;34m\u001b[0m\u001b[0;34m\u001b[0m\u001b[0m\n\u001b[0m",
      "\u001b[0;31mNameError\u001b[0m: name 'drinks' is not defined"
     ]
    }
   ],
   "source": [
    "#Reverse Row order\n",
    "drinks.loc[::-1].reset_index(drop=True).head()"
   ]
  },
  {
   "cell_type": "code",
   "execution_count": 11,
   "id": "9605b09f",
   "metadata": {},
   "outputs": [
    {
     "ename": "NameError",
     "evalue": "name 'drinks' is not defined",
     "output_type": "error",
     "traceback": [
      "\u001b[0;31m---------------------------------------------------------------------------\u001b[0m",
      "\u001b[0;31mNameError\u001b[0m                                 Traceback (most recent call last)",
      "\u001b[0;32m<ipython-input-11-0b6ad92ad853>\u001b[0m in \u001b[0;36m<module>\u001b[0;34m\u001b[0m\n\u001b[1;32m      1\u001b[0m \u001b[0;31m# Reverse the columns order\u001b[0m\u001b[0;34m\u001b[0m\u001b[0;34m\u001b[0m\u001b[0;34m\u001b[0m\u001b[0m\n\u001b[0;32m----> 2\u001b[0;31m \u001b[0mdrinks\u001b[0m\u001b[0;34m.\u001b[0m\u001b[0mloc\u001b[0m\u001b[0;34m[\u001b[0m\u001b[0;34m:\u001b[0m\u001b[0;34m,\u001b[0m \u001b[0;34m:\u001b[0m\u001b[0;34m:\u001b[0m\u001b[0;34m-\u001b[0m\u001b[0;36m1\u001b[0m\u001b[0;34m]\u001b[0m\u001b[0;34m,\u001b[0m\u001b[0mhead\u001b[0m\u001b[0;34m(\u001b[0m\u001b[0;34m)\u001b[0m\u001b[0;34m\u001b[0m\u001b[0;34m\u001b[0m\u001b[0m\n\u001b[0m",
      "\u001b[0;31mNameError\u001b[0m: name 'drinks' is not defined"
     ]
    }
   ],
   "source": [
    "# Reverse the columns order\n",
    "drinks.loc[:, ::-1],head()"
   ]
  },
  {
   "cell_type": "code",
   "execution_count": 12,
   "id": "ae2a7127",
   "metadata": {},
   "outputs": [
    {
     "data": {
      "text/html": [
       "<div>\n",
       "<style scoped>\n",
       "    .dataframe tbody tr th:only-of-type {\n",
       "        vertical-align: middle;\n",
       "    }\n",
       "\n",
       "    .dataframe tbody tr th {\n",
       "        vertical-align: top;\n",
       "    }\n",
       "\n",
       "    .dataframe thead th {\n",
       "        text-align: right;\n",
       "    }\n",
       "</style>\n",
       "<table border=\"1\" class=\"dataframe\">\n",
       "  <thead>\n",
       "    <tr style=\"text-align: right;\">\n",
       "      <th></th>\n",
       "      <th>col_one</th>\n",
       "      <th>col_two</th>\n",
       "      <th>col_three</th>\n",
       "    </tr>\n",
       "  </thead>\n",
       "  <tbody>\n",
       "    <tr>\n",
       "      <th>0</th>\n",
       "      <td>1.1</td>\n",
       "      <td>4.4</td>\n",
       "      <td>7.7</td>\n",
       "    </tr>\n",
       "    <tr>\n",
       "      <th>1</th>\n",
       "      <td>2.2</td>\n",
       "      <td>5.5</td>\n",
       "      <td>8.8</td>\n",
       "    </tr>\n",
       "    <tr>\n",
       "      <th>2</th>\n",
       "      <td>3.3</td>\n",
       "      <td>6.6</td>\n",
       "      <td>-</td>\n",
       "    </tr>\n",
       "  </tbody>\n",
       "</table>\n",
       "</div>"
      ],
      "text/plain": [
       "  col_one col_two col_three\n",
       "0     1.1     4.4       7.7\n",
       "1     2.2     5.5       8.8\n",
       "2     3.3     6.6         -"
      ]
     },
     "execution_count": 12,
     "metadata": {},
     "output_type": "execute_result"
    }
   ],
   "source": [
    "dd = pd.DataFrame({'col_one':['1.1', '2.2', '3.3'], \n",
    "                   'col_two':['4.4', '5.5', '6.6'],\n",
    "                   'col_three':['7.7', '8.8', '-']})\n",
    "dd"
   ]
  },
  {
   "cell_type": "code",
   "execution_count": 13,
   "id": "eaedaacb",
   "metadata": {},
   "outputs": [
    {
     "data": {
      "text/plain": [
       "col_one      object\n",
       "col_two      object\n",
       "col_three    object\n",
       "dtype: object"
      ]
     },
     "execution_count": 13,
     "metadata": {},
     "output_type": "execute_result"
    }
   ],
   "source": [
    "dd.dtypes"
   ]
  },
  {
   "cell_type": "code",
   "execution_count": 14,
   "id": "e689adac",
   "metadata": {},
   "outputs": [
    {
     "data": {
      "text/plain": [
       "col_one      float64\n",
       "col_two      float64\n",
       "col_three     object\n",
       "dtype: object"
      ]
     },
     "execution_count": 14,
     "metadata": {},
     "output_type": "execute_result"
    }
   ],
   "source": [
    "# Converting strings to numbers\n",
    "dd.astype({'col_one':'float', 'col_two':'float'}).dtypes"
   ]
  },
  {
   "cell_type": "code",
   "execution_count": 15,
   "id": "4599322c",
   "metadata": {},
   "outputs": [
    {
     "data": {
      "text/plain": [
       "0    7.7\n",
       "1    8.8\n",
       "2    NaN\n",
       "Name: col_three, dtype: float64"
      ]
     },
     "execution_count": 15,
     "metadata": {},
     "output_type": "execute_result"
    }
   ],
   "source": [
    "# Convert 'unknown' to a Nan by using the 'coerce' method\n",
    "pd.to_numeric(dd.col_three, errors='coerce')"
   ]
  },
  {
   "cell_type": "code",
   "execution_count": 16,
   "id": "bf0f05da",
   "metadata": {},
   "outputs": [
    {
     "data": {
      "text/plain": [
       "0    7.7\n",
       "1    8.8\n",
       "2    0.0\n",
       "Name: col_three, dtype: float64"
      ]
     },
     "execution_count": 16,
     "metadata": {},
     "output_type": "execute_result"
    }
   ],
   "source": [
    "# After converting into a Nan we than use the fillna method to fill in with 0\n",
    "pd.to_numeric(dd.col_three, errors='coerce').fillna(0)"
   ]
  },
  {
   "cell_type": "code",
   "execution_count": 17,
   "id": "3987be77",
   "metadata": {},
   "outputs": [
    {
     "data": {
      "text/html": [
       "<div>\n",
       "<style scoped>\n",
       "    .dataframe tbody tr th:only-of-type {\n",
       "        vertical-align: middle;\n",
       "    }\n",
       "\n",
       "    .dataframe tbody tr th {\n",
       "        vertical-align: top;\n",
       "    }\n",
       "\n",
       "    .dataframe thead th {\n",
       "        text-align: right;\n",
       "    }\n",
       "</style>\n",
       "<table border=\"1\" class=\"dataframe\">\n",
       "  <thead>\n",
       "    <tr style=\"text-align: right;\">\n",
       "      <th></th>\n",
       "      <th>col_one</th>\n",
       "      <th>col_two</th>\n",
       "      <th>col_three</th>\n",
       "    </tr>\n",
       "  </thead>\n",
       "  <tbody>\n",
       "    <tr>\n",
       "      <th>0</th>\n",
       "      <td>1.1</td>\n",
       "      <td>4.4</td>\n",
       "      <td>7.7</td>\n",
       "    </tr>\n",
       "    <tr>\n",
       "      <th>1</th>\n",
       "      <td>2.2</td>\n",
       "      <td>5.5</td>\n",
       "      <td>8.8</td>\n",
       "    </tr>\n",
       "    <tr>\n",
       "      <th>2</th>\n",
       "      <td>3.3</td>\n",
       "      <td>6.6</td>\n",
       "      <td>0.0</td>\n",
       "    </tr>\n",
       "  </tbody>\n",
       "</table>\n",
       "</div>"
      ],
      "text/plain": [
       "   col_one  col_two  col_three\n",
       "0      1.1      4.4        7.7\n",
       "1      2.2      5.5        8.8\n",
       "2      3.3      6.6        0.0"
      ]
     },
     "execution_count": 17,
     "metadata": {},
     "output_type": "execute_result"
    }
   ],
   "source": [
    "# Apply the whole data frame with the to numeric code \n",
    "dd = dd.apply(pd.to_numeric, errors='coerce').fillna(0)\n",
    "dd"
   ]
  },
  {
   "cell_type": "code",
   "execution_count": 18,
   "id": "ee5c30d1",
   "metadata": {},
   "outputs": [
    {
     "data": {
      "text/plain": [
       "col_one      float64\n",
       "col_two      float64\n",
       "col_three    float64\n",
       "dtype: object"
      ]
     },
     "execution_count": 18,
     "metadata": {},
     "output_type": "execute_result"
    }
   ],
   "source": [
    "dd.dtypes"
   ]
  },
  {
   "cell_type": "code",
   "execution_count": 19,
   "id": "e4619ed0",
   "metadata": {},
   "outputs": [
    {
     "name": "stdout",
     "output_type": "stream",
     "text": [
      "My name is\n",
      "Moesteelo Five Times (0)\n",
      "Moesteelo Five Times (1)\n",
      "Moesteelo Five Times (2)\n",
      "Moesteelo Five Times (3)\n",
      "Moesteelo Five Times (4)\n"
     ]
    }
   ],
   "source": [
    "print('My name is')\n",
    "for i in range(5):\n",
    "    print('Moesteelo Five Times ({})'.format(str(i)))"
   ]
  },
  {
   "cell_type": "code",
   "execution_count": 20,
   "id": "6d8ba660",
   "metadata": {},
   "outputs": [
    {
     "name": "stdout",
     "output_type": "stream",
     "text": [
      "2\n",
      "4\n",
      "6\n",
      "8\n",
      "10\n",
      "12\n",
      "14\n",
      "16\n",
      "18\n"
     ]
    }
   ],
   "source": [
    "for i in range (2, 20, 2):\n",
    "    print(i)"
   ]
  },
  {
   "cell_type": "code",
   "execution_count": 21,
   "id": "e72b9749",
   "metadata": {},
   "outputs": [
    {
     "name": "stdout",
     "output_type": "stream",
     "text": [
      "10\n",
      "8\n",
      "6\n",
      "4\n",
      "2\n",
      "0\n"
     ]
    }
   ],
   "source": [
    "for s in range (10, -1, -2):\n",
    "    print(s)"
   ]
  },
  {
   "cell_type": "code",
   "execution_count": 22,
   "id": "e5841f32",
   "metadata": {},
   "outputs": [],
   "source": [
    "for i in [1, 2, 3, 4, 5]:\n",
    "    if i ==3:\n",
    "        break\n",
    "else:\n",
    "    print(\"only executed when no itme of the list is equal to 3\")"
   ]
  },
  {
   "cell_type": "code",
   "execution_count": 23,
   "id": "1783b93f",
   "metadata": {},
   "outputs": [
    {
     "name": "stdout",
     "output_type": "stream",
     "text": [
      "1\n",
      "3\n",
      "8\n",
      "8\n",
      "2\n"
     ]
    }
   ],
   "source": [
    "import random\n",
    "for i in range (5):\n",
    "    print(random.randint(1, 10))"
   ]
  },
  {
   "cell_type": "code",
   "execution_count": 24,
   "id": "40828e89",
   "metadata": {},
   "outputs": [
    {
     "name": "stdout",
     "output_type": "stream",
     "text": [
      "Hello Alice\n",
      "Hello Bob\n"
     ]
    }
   ],
   "source": [
    "def hello(name):\n",
    "    print('Hello {}'.format(name))\n",
    "    \n",
    "hello('Alice')\n",
    "hello('Bob')"
   ]
  },
  {
   "cell_type": "code",
   "execution_count": 25,
   "id": "1eccc82a",
   "metadata": {},
   "outputs": [
    {
     "name": "stdout",
     "output_type": "stream",
     "text": [
      "Ask again later\n"
     ]
    }
   ],
   "source": [
    "import random\n",
    "def getAnswer(answerNumber):\n",
    "    if answerNumber == 1:\n",
    "        return 'It is certain'\n",
    "    elif answerNumber == 2:\n",
    "        return 'It is decidedly so'\n",
    "    elif answerNumber == 3:\n",
    "        return 'Yes'\n",
    "    elif answerNumber == 4:\n",
    "        return 'Reply hazy try again'\n",
    "    elif answerNumber == 5:\n",
    "        return 'Ask again later'\n",
    "    elif answerNumber == 6:\n",
    "        return 'Concentrate and ask again'\n",
    "    elif answerNumber == 7:\n",
    "        return 'My reply is no'\n",
    "    elif answerNumber == 8:\n",
    "        return 'Outlook not so good'\n",
    "    elif answerNumber == 9:\n",
    "        return 'Very doubtful'\n",
    "\n",
    "r = random.randint(1, 9)\n",
    "fortune = getAnswer(r)\n",
    "print(fortune)"
   ]
  },
  {
   "cell_type": "code",
   "execution_count": 26,
   "id": "8190655d",
   "metadata": {},
   "outputs": [
    {
     "name": "stdout",
     "output_type": "stream",
     "text": [
      "Cats,Dogs,Pandas\n"
     ]
    }
   ],
   "source": [
    "print('Cats', 'Dogs', 'Pandas', sep=',')"
   ]
  },
  {
   "cell_type": "code",
   "execution_count": 27,
   "id": "20b50f3a",
   "metadata": {},
   "outputs": [
    {
     "data": {
      "text/plain": [
       "'The Elephant is afraid of the Pands.'"
      ]
     },
     "execution_count": 27,
     "metadata": {},
     "output_type": "execute_result"
    }
   ],
   "source": [
    "dd = ['Cat', 'Dog', 'Pands', 'Elephant']\n",
    "dd[0]\n",
    "'The {} is afraid of the {}.'.format(dd[-1], dd[-2])"
   ]
  },
  {
   "cell_type": "code",
   "execution_count": 28,
   "id": "f74cada3",
   "metadata": {},
   "outputs": [
    {
     "data": {
      "text/plain": [
       "['Cat', 'Dog', 'Pands', 'Elephant']"
      ]
     },
     "execution_count": 28,
     "metadata": {},
     "output_type": "execute_result"
    }
   ],
   "source": [
    "dd = ['Cat', 'Dog', 'Pands', 'Elephant']\n",
    "dd[0:4]"
   ]
  },
  {
   "cell_type": "code",
   "execution_count": 29,
   "id": "c559de94",
   "metadata": {},
   "outputs": [
    {
     "data": {
      "text/plain": [
       "['Cat', 'Dog']"
      ]
     },
     "execution_count": 29,
     "metadata": {},
     "output_type": "execute_result"
    }
   ],
   "source": [
    "dd[:2]"
   ]
  },
  {
   "cell_type": "code",
   "execution_count": 30,
   "id": "9d2bcdc1",
   "metadata": {},
   "outputs": [],
   "source": [
    "df = dd[:]"
   ]
  },
  {
   "cell_type": "code",
   "execution_count": 31,
   "id": "defdc619",
   "metadata": {},
   "outputs": [],
   "source": [
    "dd.append('Dog')"
   ]
  },
  {
   "cell_type": "code",
   "execution_count": 32,
   "id": "5860647a",
   "metadata": {},
   "outputs": [
    {
     "data": {
      "text/plain": [
       "['Cat', 'Dog', 'Pands', 'Elephant', 'Dog']"
      ]
     },
     "execution_count": 32,
     "metadata": {},
     "output_type": "execute_result"
    }
   ],
   "source": [
    "dd"
   ]
  },
  {
   "cell_type": "code",
   "execution_count": 33,
   "id": "dc4e0b51",
   "metadata": {},
   "outputs": [
    {
     "data": {
      "text/plain": [
       "['Cat', 'Dog', 'Pands', 'Elephant']"
      ]
     },
     "execution_count": 33,
     "metadata": {},
     "output_type": "execute_result"
    }
   ],
   "source": [
    "df"
   ]
  },
  {
   "cell_type": "code",
   "execution_count": 34,
   "id": "aacd934a",
   "metadata": {},
   "outputs": [],
   "source": [
    "spam = [1, 2,3]"
   ]
  },
  {
   "cell_type": "code",
   "execution_count": 35,
   "id": "c9bf1697",
   "metadata": {},
   "outputs": [],
   "source": [
    "spam = spam + ['A', 'B', 'C']"
   ]
  },
  {
   "cell_type": "code",
   "execution_count": 36,
   "id": "58b2d253",
   "metadata": {},
   "outputs": [
    {
     "name": "stdout",
     "output_type": "stream",
     "text": [
      "[1, 2, 3, 'A', 'B', 'C']\n"
     ]
    }
   ],
   "source": [
    "print(spam)"
   ]
  },
  {
   "cell_type": "code",
   "execution_count": 37,
   "id": "20f5050f",
   "metadata": {},
   "outputs": [
    {
     "name": "stdout",
     "output_type": "stream",
     "text": [
      "Index 0 in supplies is: pens\n",
      "Index 1 in supplies is: staplers\n",
      "Index 2 in supplies is: flame-throwers\n",
      "Index 3 in supplies is: binders\n"
     ]
    }
   ],
   "source": [
    "supplies = ['pens', 'staplers', 'flame-throwers', 'binders']\n",
    "for i, supply in enumerate(supplies):\n",
    "    print('Index {} in supplies is: {}'.format(str(i), supply))"
   ]
  },
  {
   "cell_type": "code",
   "execution_count": 38,
   "id": "f52c6ddf",
   "metadata": {},
   "outputs": [
    {
     "name": "stdout",
     "output_type": "stream",
     "text": [
      "Peter is 12 years old\n",
      "Jack is 24 years old\n",
      "Emma is 36 years old\n"
     ]
    }
   ],
   "source": [
    "name = [\"Peter\",\"Jack\", \"Emma\"]\n",
    "age = [12, 24, 36]\n",
    "for n, a in zip(name, age):\n",
    "    print('{} is {} years old'.format(n,a))"
   ]
  },
  {
   "cell_type": "code",
   "execution_count": 39,
   "id": "28ce0814",
   "metadata": {},
   "outputs": [
    {
     "name": "stdout",
     "output_type": "stream",
     "text": [
      "cat loud\n"
     ]
    }
   ],
   "source": [
    "cat = ['fat', 'orange', 'loud']\n",
    "size, color, disposition = cat\n",
    "print('cat', disposition)"
   ]
  },
  {
   "cell_type": "code",
   "execution_count": 40,
   "id": "415dd29f",
   "metadata": {},
   "outputs": [
    {
     "data": {
      "text/plain": [
       "['cat', 'dog', 'bat', 'moose']"
      ]
     },
     "execution_count": 40,
     "metadata": {},
     "output_type": "execute_result"
    }
   ],
   "source": [
    "spam = ['cat', 'dog', 'bat']\n",
    "spam.append('moose')\n",
    "spam"
   ]
  },
  {
   "cell_type": "code",
   "execution_count": 41,
   "id": "f7db7fbb",
   "metadata": {},
   "outputs": [
    {
     "data": {
      "text/plain": [
       "['cat', 'moose', 'dog', 'bat']"
      ]
     },
     "execution_count": 41,
     "metadata": {},
     "output_type": "execute_result"
    }
   ],
   "source": [
    "spam = ['cat', 'dog', 'bat']\n",
    "spam.insert(1,'moose')\n",
    "spam"
   ]
  },
  {
   "cell_type": "code",
   "execution_count": 42,
   "id": "4d6eef9b",
   "metadata": {},
   "outputs": [
    {
     "data": {
      "text/plain": [
       "[-7, 1, 2, 3.14, 5]"
      ]
     },
     "execution_count": 42,
     "metadata": {},
     "output_type": "execute_result"
    }
   ],
   "source": [
    "spam = [2, 5, 3.14, 1, -7]\n",
    "spam.sort()\n",
    "spam"
   ]
  },
  {
   "cell_type": "code",
   "execution_count": 43,
   "id": "db71a1f1",
   "metadata": {},
   "outputs": [
    {
     "data": {
      "text/plain": [
       "['ants', 'badgers', 'cats', 'dogs', 'elephants']"
      ]
     },
     "execution_count": 43,
     "metadata": {},
     "output_type": "execute_result"
    }
   ],
   "source": [
    "spam = ['ants', 'cats', 'dogs', 'badgers', 'elephants']\n",
    "spam.sort()\n",
    "spam"
   ]
  },
  {
   "cell_type": "code",
   "execution_count": 44,
   "id": "5b3a01b4",
   "metadata": {},
   "outputs": [
    {
     "data": {
      "text/plain": [
       "['elephants', 'dogs', 'cats', 'badgers', 'ants']"
      ]
     },
     "execution_count": 44,
     "metadata": {},
     "output_type": "execute_result"
    }
   ],
   "source": [
    "spam.sort(reverse=True)\n",
    "spam"
   ]
  },
  {
   "cell_type": "code",
   "execution_count": 45,
   "id": "15ba0d43",
   "metadata": {},
   "outputs": [
    {
     "data": {
      "text/plain": [
       "['ants', 'badgers', 'cats', 'dogs', 'elephants']"
      ]
     },
     "execution_count": 45,
     "metadata": {},
     "output_type": "execute_result"
    }
   ],
   "source": [
    "spam = ['ants', 'cats', 'dogs', 'badgers', 'elephants']\n",
    "sorted(spam)"
   ]
  },
  {
   "cell_type": "code",
   "execution_count": 46,
   "id": "01afd240",
   "metadata": {},
   "outputs": [
    {
     "data": {
      "text/plain": [
       "{'size': 'fat', 'color': 'gray', 'disposition': 'loud'}"
      ]
     },
     "execution_count": 46,
     "metadata": {},
     "output_type": "execute_result"
    }
   ],
   "source": [
    "myCat = {'size': 'fat', 'color': 'gray', 'disposition': 'loud'}\n",
    "myCat"
   ]
  },
  {
   "cell_type": "code",
   "execution_count": 47,
   "id": "6ec09df5",
   "metadata": {},
   "outputs": [
    {
     "name": "stdout",
     "output_type": "stream",
     "text": [
      "red\n",
      "42\n"
     ]
    }
   ],
   "source": [
    "spam = {'color': 'red', 'age': 42}\n",
    "for v in spam.values():\n",
    "    print(v)"
   ]
  },
  {
   "cell_type": "code",
   "execution_count": 48,
   "id": "f49ceb77",
   "metadata": {},
   "outputs": [
    {
     "name": "stdout",
     "output_type": "stream",
     "text": [
      "color\n",
      "age\n"
     ]
    }
   ],
   "source": [
    "for k in spam.keys():\n",
    "    print(k)"
   ]
  },
  {
   "cell_type": "code",
   "execution_count": 49,
   "id": "646d9a9c",
   "metadata": {},
   "outputs": [
    {
     "name": "stdout",
     "output_type": "stream",
     "text": [
      "Key:color Value:red\n",
      "Key:age Value:42\n"
     ]
    }
   ],
   "source": [
    "spam = {'color': 'red', 'age': 42}\n",
    "for k , v in spam.items():\n",
    "    print('Key:{} Value:{}'.format(k, str(v)))"
   ]
  },
  {
   "cell_type": "code",
   "execution_count": 50,
   "id": "06662273",
   "metadata": {},
   "outputs": [],
   "source": [
    "spam = {'name': 'Zophie', 'age': 7}\n"
   ]
  },
  {
   "cell_type": "code",
   "execution_count": 51,
   "id": "88dca94c",
   "metadata": {},
   "outputs": [
    {
     "data": {
      "text/plain": [
       "True"
      ]
     },
     "execution_count": 51,
     "metadata": {},
     "output_type": "execute_result"
    }
   ],
   "source": [
    "'name' in spam.keys()\n"
   ]
  },
  {
   "cell_type": "code",
   "execution_count": 52,
   "id": "1361e671",
   "metadata": {},
   "outputs": [
    {
     "data": {
      "text/plain": [
       "'I am bringing 2 cups.'"
      ]
     },
     "execution_count": 52,
     "metadata": {},
     "output_type": "execute_result"
    }
   ],
   "source": [
    "picnic_items = {'apples': 5, 'cups': 2}\n",
    "'I am bringing {} cups.'.format(str(picnic_items.get('cups')))"
   ]
  },
  {
   "cell_type": "code",
   "execution_count": 53,
   "id": "1d7127ee",
   "metadata": {},
   "outputs": [
    {
     "data": {
      "text/plain": [
       "'black'"
      ]
     },
     "execution_count": 53,
     "metadata": {},
     "output_type": "execute_result"
    }
   ],
   "source": [
    "spam = {'name': 'Pooka', 'age': 5}\n",
    "spam.setdefault('color', 'black')"
   ]
  },
  {
   "cell_type": "code",
   "execution_count": 54,
   "id": "bdb12c40",
   "metadata": {},
   "outputs": [
    {
     "data": {
      "text/plain": [
       "{'name': 'Pooka', 'age': 5, 'color': 'black'}"
      ]
     },
     "execution_count": 54,
     "metadata": {},
     "output_type": "execute_result"
    }
   ],
   "source": [
    "spam"
   ]
  },
  {
   "cell_type": "code",
   "execution_count": 55,
   "id": "3b82faa7",
   "metadata": {},
   "outputs": [
    {
     "data": {
      "text/plain": [
       "'black'"
      ]
     },
     "execution_count": 55,
     "metadata": {},
     "output_type": "execute_result"
    }
   ],
   "source": [
    "# Can't change the setdefault function\n",
    "spam.setdefault('color', 'Blue')"
   ]
  },
  {
   "cell_type": "code",
   "execution_count": 56,
   "id": "6c41c12f",
   "metadata": {},
   "outputs": [
    {
     "name": "stdout",
     "output_type": "stream",
     "text": [
      "{' ': 13,\n",
      " ',': 1,\n",
      " '.': 1,\n",
      " 'A': 1,\n",
      " 'a': 4,\n",
      " 'b': 1,\n",
      " 'c': 3,\n",
      " 'd': 3,\n",
      " 'e': 5,\n",
      " 'g': 2,\n",
      " 'h': 3,\n",
      " 'i': 7,\n",
      " 'k': 2,\n",
      " 'l': 3,\n",
      " 'n': 4,\n",
      " 'o': 2,\n",
      " 'p': 1,\n",
      " 'r': 5,\n",
      " 's': 3,\n",
      " 't': 6,\n",
      " 'w': 2,\n",
      " 'y': 1}\n"
     ]
    }
   ],
   "source": [
    "import pprint\n",
    "\n",
    "message = \"it was a bright cold day in April, and the clocks were striking thirteen.\"\n",
    "count = {}\n",
    "\n",
    "\n",
    "for k in message:\n",
    "    count.setdefault(k, 0)\n",
    "    count[k] = count[k] + 1\n",
    "    \n",
    "pprint.pprint(count)"
   ]
  },
  {
   "cell_type": "code",
   "execution_count": 57,
   "id": "f1c2f56a",
   "metadata": {},
   "outputs": [
    {
     "data": {
      "text/plain": [
       "{'a': 1, 'b': 2, 'c': 3, 'd': 4}"
      ]
     },
     "execution_count": 57,
     "metadata": {},
     "output_type": "execute_result"
    }
   ],
   "source": [
    "x = {'a': 1, 'b': 2}\n",
    "y = {'c': 3, 'd': 4}\n",
    "z = {**x, **y}\n",
    "z"
   ]
  },
  {
   "cell_type": "code",
   "execution_count": 58,
   "id": "070b4e96",
   "metadata": {},
   "outputs": [
    {
     "data": {
      "text/plain": [
       "{1, 2}"
      ]
     },
     "execution_count": 58,
     "metadata": {},
     "output_type": "execute_result"
    }
   ],
   "source": [
    "s = {1, 2,3}\n",
    "s.discard(3)\n",
    "s"
   ]
  },
  {
   "cell_type": "code",
   "execution_count": 59,
   "id": "96592f03",
   "metadata": {},
   "outputs": [
    {
     "data": {
      "text/plain": [
       "{1, 2, 3, 4, 5}"
      ]
     },
     "execution_count": 59,
     "metadata": {},
     "output_type": "execute_result"
    }
   ],
   "source": [
    "# union() or | will create a new set that contains all the elements from the sets provided.\n",
    "s1 = {1, 2, 3}\n",
    "s2 = {3, 4, 5}\n",
    "s1.union(s2)"
   ]
  },
  {
   "cell_type": "code",
   "execution_count": 60,
   "id": "34b8db40",
   "metadata": {},
   "outputs": [
    {
     "data": {
      "text/plain": [
       "{1, 2, 3, 4, 5}"
      ]
     },
     "execution_count": 60,
     "metadata": {},
     "output_type": "execute_result"
    }
   ],
   "source": [
    "s1 | s2"
   ]
  },
  {
   "cell_type": "code",
   "execution_count": 61,
   "id": "322ccaab",
   "metadata": {},
   "outputs": [
    {
     "data": {
      "text/plain": [
       "{3}"
      ]
     },
     "execution_count": 61,
     "metadata": {},
     "output_type": "execute_result"
    }
   ],
   "source": [
    "# intersection or & will return a set containing only the elements that are common to all of them.\n",
    "s1 = {1, 2, 3}\n",
    "s2 = {2, 3, 4}\n",
    "s3 = {3, 4, 5}\n",
    "#s1.intersection(s2, s3) \n",
    "s1 & s2 & s3"
   ]
  },
  {
   "cell_type": "code",
   "execution_count": 62,
   "id": "fc2d2318",
   "metadata": {},
   "outputs": [
    {
     "data": {
      "text/plain": [
       "{'No'}"
      ]
     },
     "execution_count": 62,
     "metadata": {},
     "output_type": "execute_result"
    }
   ],
   "source": [
    "s1 = {\"The\", \"Id\", \"No\"}\n",
    "s2 = {\"No\", \"Yes\", \"Blue\"}\n",
    "s3 = {\"Hi\", \"Hello\", \"No\"}\n",
    "s1 & s2 & s3"
   ]
  },
  {
   "cell_type": "code",
   "execution_count": 63,
   "id": "531bdf41",
   "metadata": {},
   "outputs": [
    {
     "data": {
      "text/plain": [
       "{1}"
      ]
     },
     "execution_count": 63,
     "metadata": {},
     "output_type": "execute_result"
    }
   ],
   "source": [
    "#set difference--difference or - will return only the elements that are unique to the first set (invoked set).\n",
    "\n",
    "s1 = {1, 2, 3}\n",
    "s2 = {2, 3, 4}\n",
    "# s1.difference(s2)\n",
    "s1 - s2"
   ]
  },
  {
   "cell_type": "code",
   "execution_count": 64,
   "id": "b4453661",
   "metadata": {},
   "outputs": [
    {
     "data": {
      "text/plain": [
       "{1, 4}"
      ]
     },
     "execution_count": 64,
     "metadata": {},
     "output_type": "execute_result"
    }
   ],
   "source": [
    "s1 = {1, 2, 3}\n",
    "s2 = {2, 3, 4}\n",
    "s1.symmetric_difference(s2)  # or 's1 ^ s2'"
   ]
  },
  {
   "cell_type": "code",
   "execution_count": 76,
   "id": "f4758036",
   "metadata": {},
   "outputs": [
    {
     "ename": "NameError",
     "evalue": "name 'operator' is not defined",
     "output_type": "error",
     "traceback": [
      "\u001b[0;31m---------------------------------------------------------------------------\u001b[0m",
      "\u001b[0;31mNameError\u001b[0m                                 Traceback (most recent call last)",
      "\u001b[0;32m<ipython-input-76-1b006dad016f>\u001b[0m in \u001b[0;36m<module>\u001b[0;34m\u001b[0m\n\u001b[1;32m      1\u001b[0m \u001b[0;32mimport\u001b[0m \u001b[0mitertools\u001b[0m\u001b[0;34m\u001b[0m\u001b[0;34m\u001b[0m\u001b[0m\n\u001b[1;32m      2\u001b[0m \u001b[0mdata\u001b[0m \u001b[0;34m=\u001b[0m \u001b[0;34m[\u001b[0m\u001b[0;36m1\u001b[0m\u001b[0;34m,\u001b[0m \u001b[0;36m2\u001b[0m\u001b[0;34m,\u001b[0m \u001b[0;36m3\u001b[0m\u001b[0;34m,\u001b[0m \u001b[0;36m4\u001b[0m\u001b[0;34m,\u001b[0m \u001b[0;36m5\u001b[0m\u001b[0;34m]\u001b[0m\u001b[0;34m\u001b[0m\u001b[0;34m\u001b[0m\u001b[0m\n\u001b[0;32m----> 3\u001b[0;31m \u001b[0mresult\u001b[0m \u001b[0;34m=\u001b[0m \u001b[0mitertools\u001b[0m\u001b[0;34m.\u001b[0m\u001b[0maccumulate\u001b[0m\u001b[0;34m(\u001b[0m\u001b[0mdata\u001b[0m\u001b[0;34m,\u001b[0m \u001b[0moperator\u001b[0m\u001b[0;34m.\u001b[0m\u001b[0mmul\u001b[0m\u001b[0;34m)\u001b[0m\u001b[0;34m\u001b[0m\u001b[0;34m\u001b[0m\u001b[0m\n\u001b[0m\u001b[1;32m      4\u001b[0m \u001b[0;32mfor\u001b[0m \u001b[0meach\u001b[0m \u001b[0;32min\u001b[0m \u001b[0mresult\u001b[0m\u001b[0;34m:\u001b[0m\u001b[0;34m\u001b[0m\u001b[0;34m\u001b[0m\u001b[0m\n\u001b[1;32m      5\u001b[0m     \u001b[0mprint\u001b[0m\u001b[0;34m(\u001b[0m\u001b[0meach\u001b[0m\u001b[0;34m)\u001b[0m\u001b[0;34m\u001b[0m\u001b[0;34m\u001b[0m\u001b[0m\n",
      "\u001b[0;31mNameError\u001b[0m: name 'operator' is not defined"
     ]
    }
   ],
   "source": [
    "import itertools\n",
    "data = [1, 2, 3, 4, 5]\n",
    "result = itertools.accumulate(data, operator.mul)\n",
    "for each in result:\n",
    "    print(each)"
   ]
  },
  {
   "cell_type": "code",
   "execution_count": 74,
   "id": "040aa1a5",
   "metadata": {},
   "outputs": [
    {
     "name": "stdout",
     "output_type": "stream",
     "text": [
      "5\n",
      "7\n",
      "13\n",
      "17\n",
      "22\n",
      "31\n",
      "32\n"
     ]
    }
   ],
   "source": [
    "data = [5, 2, 6, 4, 5, 9, 1]\n",
    "result = itertools.accumulate(data)\n",
    "for each in result:\n",
    "    print(each)"
   ]
  },
  {
   "cell_type": "code",
   "execution_count": 73,
   "id": "09e521aa",
   "metadata": {},
   "outputs": [],
   "source": [
    "# pd.show_versions()"
   ]
  },
  {
   "cell_type": "code",
   "execution_count": 87,
   "id": "861668c8",
   "metadata": {},
   "outputs": [
    {
     "name": "stdout",
     "output_type": "stream",
     "text": [
      "('circle', 'triangle')\n",
      "('circle', 'square')\n",
      "('triangle', 'square')\n"
     ]
    }
   ],
   "source": [
    "# combinations() Takes an iterable and a integer. This will create all the unique combination that have r members.\n",
    "shapes = ['circle', 'triangle', 'square',]\n",
    "result = itertools.combinations(shapes, 2)\n",
    "for each in result:\n",
    "     print(each)"
   ]
  },
  {
   "cell_type": "code",
   "execution_count": 89,
   "id": "026918c3",
   "metadata": {},
   "outputs": [
    {
     "name": "stdout",
     "output_type": "stream",
     "text": [
      "10\n",
      "13\n",
      "16\n",
      "19\n",
      "22\n"
     ]
    }
   ],
   "source": [
    "for i in itertools.count(10,3):\n",
    "    print(i)\n",
    "    if i > 20:\n",
    "               break"
   ]
  },
  {
   "cell_type": "code",
   "execution_count": 91,
   "id": "af0dc089",
   "metadata": {},
   "outputs": [],
   "source": [
    "# cycle() This function cycles through an iterator endlessly.\n",
    "\n",
    "#colors = ['red', 'orange', 'yellow', 'green', 'blue', 'violet']\n",
    "#for color in itertools.cycle(colors):\n",
    "      #print(color)"
   ]
  },
  {
   "cell_type": "code",
   "execution_count": 92,
   "id": "9f5efc17",
   "metadata": {},
   "outputs": [
    {
     "name": "stdout",
     "output_type": "stream",
     "text": [
      "red\n",
      "orange\n",
      "yellow\n",
      "green\n",
      "blue\n",
      "violet\n",
      "circle\n",
      "triangle\n",
      "square\n",
      "pentagon\n"
     ]
    }
   ],
   "source": [
    "shapes = ['circle', 'triangle', 'square', 'pentagon']\n",
    "result = itertools.chain(colors, shapes)\n",
    "for each in result:\n",
    "    print(each)"
   ]
  },
  {
   "cell_type": "code",
   "execution_count": 93,
   "id": "d0a879ed",
   "metadata": {},
   "outputs": [
    {
     "name": "stdout",
     "output_type": "stream",
     "text": [
      "autobot\n",
      "[{'name': 'blaster', 'faction': 'autobot'}]\n",
      "decepticon\n",
      "[{'name': 'galvatron', 'faction': 'decepticon'}]\n",
      "autobot\n",
      "[{'name': 'jazz', 'faction': 'autobot'}, {'name': 'metroplex', 'faction': 'autobot'}]\n",
      "decepticon\n",
      "[{'name': 'megatron', 'faction': 'decepticon'}, {'name': 'starcream', 'faction': 'decepticon'}]\n"
     ]
    }
   ],
   "source": [
    "robots = [{\n",
    "    'name': 'blaster',\n",
    "    'faction': 'autobot'\n",
    "}, {\n",
    "    'name': 'galvatron',\n",
    "    'faction': 'decepticon'\n",
    "}, {\n",
    "    'name': 'jazz',\n",
    "    'faction': 'autobot'\n",
    "}, {\n",
    "    'name': 'metroplex',\n",
    "    'faction': 'autobot'\n",
    "}, {\n",
    "    'name': 'megatron',\n",
    "    'faction': 'decepticon'\n",
    "}, {\n",
    "    'name': 'starcream',\n",
    "    'faction': 'decepticon'\n",
    "}]\n",
    "for key, group in itertools.groupby(robots, key=lambda x: x['faction']):\n",
    "    print(key)\n",
    "    print(list(group))"
   ]
  },
  {
   "cell_type": "code",
   "execution_count": 95,
   "id": "4dceea67",
   "metadata": {},
   "outputs": [
    {
     "name": "stdout",
     "output_type": "stream",
     "text": [
      "('a', 'b', 'c', 'd', 'e')\n",
      "('a', 'b', 'c', 'e', 'd')\n",
      "('a', 'b', 'd', 'c', 'e')\n",
      "('a', 'b', 'd', 'e', 'c')\n",
      "('a', 'b', 'e', 'c', 'd')\n",
      "('a', 'b', 'e', 'd', 'c')\n",
      "('a', 'c', 'b', 'd', 'e')\n",
      "('a', 'c', 'b', 'e', 'd')\n",
      "('a', 'c', 'd', 'b', 'e')\n",
      "('a', 'c', 'd', 'e', 'b')\n",
      "('a', 'c', 'e', 'b', 'd')\n",
      "('a', 'c', 'e', 'd', 'b')\n",
      "('a', 'd', 'b', 'c', 'e')\n",
      "('a', 'd', 'b', 'e', 'c')\n",
      "('a', 'd', 'c', 'b', 'e')\n",
      "('a', 'd', 'c', 'e', 'b')\n",
      "('a', 'd', 'e', 'b', 'c')\n",
      "('a', 'd', 'e', 'c', 'b')\n",
      "('a', 'e', 'b', 'c', 'd')\n",
      "('a', 'e', 'b', 'd', 'c')\n",
      "('a', 'e', 'c', 'b', 'd')\n",
      "('a', 'e', 'c', 'd', 'b')\n",
      "('a', 'e', 'd', 'b', 'c')\n",
      "('a', 'e', 'd', 'c', 'b')\n",
      "('b', 'a', 'c', 'd', 'e')\n",
      "('b', 'a', 'c', 'e', 'd')\n",
      "('b', 'a', 'd', 'c', 'e')\n",
      "('b', 'a', 'd', 'e', 'c')\n",
      "('b', 'a', 'e', 'c', 'd')\n",
      "('b', 'a', 'e', 'd', 'c')\n",
      "('b', 'c', 'a', 'd', 'e')\n",
      "('b', 'c', 'a', 'e', 'd')\n",
      "('b', 'c', 'd', 'a', 'e')\n",
      "('b', 'c', 'd', 'e', 'a')\n",
      "('b', 'c', 'e', 'a', 'd')\n",
      "('b', 'c', 'e', 'd', 'a')\n",
      "('b', 'd', 'a', 'c', 'e')\n",
      "('b', 'd', 'a', 'e', 'c')\n",
      "('b', 'd', 'c', 'a', 'e')\n",
      "('b', 'd', 'c', 'e', 'a')\n",
      "('b', 'd', 'e', 'a', 'c')\n",
      "('b', 'd', 'e', 'c', 'a')\n",
      "('b', 'e', 'a', 'c', 'd')\n",
      "('b', 'e', 'a', 'd', 'c')\n",
      "('b', 'e', 'c', 'a', 'd')\n",
      "('b', 'e', 'c', 'd', 'a')\n",
      "('b', 'e', 'd', 'a', 'c')\n",
      "('b', 'e', 'd', 'c', 'a')\n",
      "('c', 'a', 'b', 'd', 'e')\n",
      "('c', 'a', 'b', 'e', 'd')\n",
      "('c', 'a', 'd', 'b', 'e')\n",
      "('c', 'a', 'd', 'e', 'b')\n",
      "('c', 'a', 'e', 'b', 'd')\n",
      "('c', 'a', 'e', 'd', 'b')\n",
      "('c', 'b', 'a', 'd', 'e')\n",
      "('c', 'b', 'a', 'e', 'd')\n",
      "('c', 'b', 'd', 'a', 'e')\n",
      "('c', 'b', 'd', 'e', 'a')\n",
      "('c', 'b', 'e', 'a', 'd')\n",
      "('c', 'b', 'e', 'd', 'a')\n",
      "('c', 'd', 'a', 'b', 'e')\n",
      "('c', 'd', 'a', 'e', 'b')\n",
      "('c', 'd', 'b', 'a', 'e')\n",
      "('c', 'd', 'b', 'e', 'a')\n",
      "('c', 'd', 'e', 'a', 'b')\n",
      "('c', 'd', 'e', 'b', 'a')\n",
      "('c', 'e', 'a', 'b', 'd')\n",
      "('c', 'e', 'a', 'd', 'b')\n",
      "('c', 'e', 'b', 'a', 'd')\n",
      "('c', 'e', 'b', 'd', 'a')\n",
      "('c', 'e', 'd', 'a', 'b')\n",
      "('c', 'e', 'd', 'b', 'a')\n",
      "('d', 'a', 'b', 'c', 'e')\n",
      "('d', 'a', 'b', 'e', 'c')\n",
      "('d', 'a', 'c', 'b', 'e')\n",
      "('d', 'a', 'c', 'e', 'b')\n",
      "('d', 'a', 'e', 'b', 'c')\n",
      "('d', 'a', 'e', 'c', 'b')\n",
      "('d', 'b', 'a', 'c', 'e')\n",
      "('d', 'b', 'a', 'e', 'c')\n",
      "('d', 'b', 'c', 'a', 'e')\n",
      "('d', 'b', 'c', 'e', 'a')\n",
      "('d', 'b', 'e', 'a', 'c')\n",
      "('d', 'b', 'e', 'c', 'a')\n",
      "('d', 'c', 'a', 'b', 'e')\n",
      "('d', 'c', 'a', 'e', 'b')\n",
      "('d', 'c', 'b', 'a', 'e')\n",
      "('d', 'c', 'b', 'e', 'a')\n",
      "('d', 'c', 'e', 'a', 'b')\n",
      "('d', 'c', 'e', 'b', 'a')\n",
      "('d', 'e', 'a', 'b', 'c')\n",
      "('d', 'e', 'a', 'c', 'b')\n",
      "('d', 'e', 'b', 'a', 'c')\n",
      "('d', 'e', 'b', 'c', 'a')\n",
      "('d', 'e', 'c', 'a', 'b')\n",
      "('d', 'e', 'c', 'b', 'a')\n",
      "('e', 'a', 'b', 'c', 'd')\n",
      "('e', 'a', 'b', 'd', 'c')\n",
      "('e', 'a', 'c', 'b', 'd')\n",
      "('e', 'a', 'c', 'd', 'b')\n",
      "('e', 'a', 'd', 'b', 'c')\n",
      "('e', 'a', 'd', 'c', 'b')\n",
      "('e', 'b', 'a', 'c', 'd')\n",
      "('e', 'b', 'a', 'd', 'c')\n",
      "('e', 'b', 'c', 'a', 'd')\n",
      "('e', 'b', 'c', 'd', 'a')\n",
      "('e', 'b', 'd', 'a', 'c')\n",
      "('e', 'b', 'd', 'c', 'a')\n",
      "('e', 'c', 'a', 'b', 'd')\n",
      "('e', 'c', 'a', 'd', 'b')\n",
      "('e', 'c', 'b', 'a', 'd')\n",
      "('e', 'c', 'b', 'd', 'a')\n",
      "('e', 'c', 'd', 'a', 'b')\n",
      "('e', 'c', 'd', 'b', 'a')\n",
      "('e', 'd', 'a', 'b', 'c')\n",
      "('e', 'd', 'a', 'c', 'b')\n",
      "('e', 'd', 'b', 'a', 'c')\n",
      "('e', 'd', 'b', 'c', 'a')\n",
      "('e', 'd', 'c', 'a', 'b')\n",
      "('e', 'd', 'c', 'b', 'a')\n"
     ]
    }
   ],
   "source": [
    "alpha_data = ['a', 'b', 'c', 'd', 'e']\n",
    "result = itertools.permutations(alpha_data)\n",
    "for each in result:\n",
    "    print(each)"
   ]
  },
  {
   "cell_type": "code",
   "execution_count": 96,
   "id": "54d14a3a",
   "metadata": {},
   "outputs": [
    {
     "data": {
      "text/plain": [
       "[0, 2, 4, 6, 8, 10]"
      ]
     },
     "execution_count": 96,
     "metadata": {},
     "output_type": "execute_result"
    }
   ],
   "source": [
    "a = [1, 3, 5, 7, 9, 11]\n",
    "[i-1 for i in a]"
   ]
  },
  {
   "cell_type": "code",
   "execution_count": 97,
   "id": "4ef6827f",
   "metadata": {},
   "outputs": [
    {
     "data": {
      "text/plain": [
       "{'ABC', 'DEF'}"
      ]
     },
     "execution_count": 97,
     "metadata": {},
     "output_type": "execute_result"
    }
   ],
   "source": [
    " b = {\"abc\", \"def\"}\n",
    "{s.upper() for s in b}"
   ]
  },
  {
   "cell_type": "code",
   "execution_count": 102,
   "id": "da0377d3",
   "metadata": {},
   "outputs": [
    {
     "name": "stdout",
     "output_type": "stream",
     "text": [
      "Hello there!\n",
      "How are you?\t\n",
      "I'm doing fine.\n"
     ]
    }
   ],
   "source": [
    "print(\"Hello there!\\nHow are you?\\nI\\'m doing fine.\")"
   ]
  },
  {
   "cell_type": "code",
   "execution_count": 113,
   "id": "54617280",
   "metadata": {},
   "outputs": [
    {
     "name": "stdout",
     "output_type": "stream",
     "text": [
      "Dear Alice,\n",
      "\n",
      "Eve's cat had been arrested for catnapping, cat burglary, and extortion.\n",
      "\n",
      "Sincerly,\n",
      "Bob\n"
     ]
    }
   ],
   "source": [
    "print('''Dear Alice,\n",
    "\n",
    "Eve's cat had been arrested for catnapping, cat burglary, and extortion.\n",
    "\n",
    "Sincerly,\n",
    "Bob''')"
   ]
  },
  {
   "cell_type": "code",
   "execution_count": 114,
   "id": "7d6ef34b",
   "metadata": {},
   "outputs": [
    {
     "data": {
      "text/plain": [
       "'cats, rats, bats'"
      ]
     },
     "execution_count": 114,
     "metadata": {},
     "output_type": "execute_result"
    }
   ],
   "source": [
    "', '.join(['cats', 'rats', 'bats'])"
   ]
  },
  {
   "cell_type": "code",
   "execution_count": 115,
   "id": "f6ffa733",
   "metadata": {},
   "outputs": [
    {
     "data": {
      "text/plain": [
       "'My name is Simon'"
      ]
     },
     "execution_count": 115,
     "metadata": {},
     "output_type": "execute_result"
    }
   ],
   "source": [
    "' '.join(['My', 'name', 'is', 'Simon'])"
   ]
  },
  {
   "cell_type": "code",
   "execution_count": 117,
   "id": "61d69e79",
   "metadata": {},
   "outputs": [
    {
     "name": "stdout",
     "output_type": "stream",
     "text": [
      "2\n"
     ]
    }
   ],
   "source": [
    "spam = input()"
   ]
  },
  {
   "cell_type": "code",
   "execution_count": 118,
   "id": "777fa4bd",
   "metadata": {},
   "outputs": [
    {
     "data": {
      "text/plain": [
       "'2'"
      ]
     },
     "execution_count": 118,
     "metadata": {},
     "output_type": "execute_result"
    }
   ],
   "source": [
    "spam"
   ]
  },
  {
   "cell_type": "code",
   "execution_count": 119,
   "id": "850881e7",
   "metadata": {},
   "outputs": [
    {
     "data": {
      "text/plain": [
       "7"
      ]
     },
     "execution_count": 119,
     "metadata": {},
     "output_type": "execute_result"
    }
   ],
   "source": [
    "int(7.7)"
   ]
  },
  {
   "cell_type": "code",
   "execution_count": 123,
   "id": "fafc30eb",
   "metadata": {},
   "outputs": [
    {
     "name": "stdout",
     "output_type": "stream",
     "text": [
      "What is your age\n",
      "5\n",
      "You will be 6 in a. year.\n"
     ]
    }
   ],
   "source": [
    "print('What is your age')\n",
    "myAge = input()\n",
    "print('You will be ' + str(int(myAge) + 1) + ' in a. year.')"
   ]
  },
  {
   "cell_type": "code",
   "execution_count": 124,
   "id": "1fba2b52",
   "metadata": {},
   "outputs": [
    {
     "data": {
      "text/plain": [
       "'spamspamspam'"
      ]
     },
     "execution_count": 124,
     "metadata": {},
     "output_type": "execute_result"
    }
   ],
   "source": [
    "'spam' + 'spamspam'\n",
    "'spam' * 3"
   ]
  },
  {
   "cell_type": "code",
   "execution_count": 136,
   "id": "5a5c7058",
   "metadata": {},
   "outputs": [
    {
     "name": "stdout",
     "output_type": "stream",
     "text": [
      "Hello, Mary\n",
      "Access granted.\n"
     ]
    }
   ],
   "source": [
    "name = 'Mary'\n",
    "password = 'swordfish'\n",
    "if name == 'Mary':\n",
    "    print('Hello, Mary')\n",
    "    if password == 'swordfish':\n",
    "        print('Access granted.')\n",
    "    else:\n",
    "        print('Wrong password.')"
   ]
  },
  {
   "cell_type": "code",
   "execution_count": 170,
   "id": "4df1e4ec",
   "metadata": {},
   "outputs": [
    {
     "name": "stdout",
     "output_type": "stream",
     "text": [
      "you are a grown ass adult\n"
     ]
    }
   ],
   "source": [
    "name = 'Moesteel0'\n",
    "age = 40\n",
    "if name == 'Mike':\n",
    "    print('Hi, Alice')\n",
    "elif age > 27:\n",
    "    print('you are a grown ass adult')\n",
    "elif age <22:\n",
    "    print('You still got time in life to figure things out')"
   ]
  },
  {
   "cell_type": "code",
   "execution_count": 172,
   "id": "f5067f54",
   "metadata": {},
   "outputs": [
    {
     "name": "stdout",
     "output_type": "stream",
     "text": [
      "Hello, world.\n",
      "Hello, world.\n",
      "Hello, world.\n",
      "Hello, world.\n",
      "Hello, world.\n"
     ]
    }
   ],
   "source": [
    "spam = 0\n",
    "while spam < 5:\n",
    "    print('Hello, world.')\n",
    "    spam = spam + 1"
   ]
  },
  {
   "cell_type": "code",
   "execution_count": 175,
   "id": "1cdfdef4",
   "metadata": {},
   "outputs": [
    {
     "name": "stdout",
     "output_type": "stream",
     "text": [
      "Please type your name.\n",
      "moe\n",
      "Thank you!\n",
      "Please type your name.\n",
      "moes\n",
      "Thank you!\n",
      "Please type your name.\n",
      "your name\n",
      "Thank you!\n"
     ]
    }
   ],
   "source": [
    "name = ''\n",
    "while name != 'your name':\n",
    "    print('Please type your name.') \n",
    "    name = input()\n",
    "    print('Thank you!')"
   ]
  },
  {
   "cell_type": "code",
   "execution_count": 187,
   "id": "620d94fb",
   "metadata": {},
   "outputs": [
    {
     "name": "stdout",
     "output_type": "stream",
     "text": [
      "Please type your name.\n",
      "moesteelo\n",
      "Thank you\n",
      "Please type your name.\n",
      "moe\n",
      "Thank you\n",
      "Please type your name.\n",
      "your name\n"
     ]
    }
   ],
   "source": [
    "while True:\n",
    "    print('Please type your name.')\n",
    "    name = input()\n",
    "    if name == 'your name':\n",
    "        break\n",
    "    print('Thank you')"
   ]
  },
  {
   "cell_type": "code",
   "execution_count": 188,
   "id": "2792d320",
   "metadata": {},
   "outputs": [
    {
     "name": "stdout",
     "output_type": "stream",
     "text": [
      "5050\n"
     ]
    }
   ],
   "source": [
    "total = 0\n",
    "for num in range(101):\n",
    "    total = total + num\n",
    "print(total)"
   ]
  },
  {
   "cell_type": "code",
   "execution_count": 198,
   "id": "93c20880",
   "metadata": {},
   "outputs": [
    {
     "name": "stdout",
     "output_type": "stream",
     "text": [
      "0\n",
      "2\n",
      "4\n",
      "6\n",
      "8\n",
      "10\n",
      "12\n",
      "14\n",
      "16\n",
      "18\n"
     ]
    }
   ],
   "source": [
    "# how to get the even numbers in a range or list\n",
    "for i in range (0, 20, 2):\n",
    "    if i % 2 == 0:\n",
    "        print(i)"
   ]
  },
  {
   "cell_type": "code",
   "execution_count": 204,
   "id": "9b567428",
   "metadata": {},
   "outputs": [
    {
     "name": "stdout",
     "output_type": "stream",
     "text": [
      "0\n",
      "2\n",
      "4\n",
      "6\n",
      "8\n"
     ]
    }
   ],
   "source": [
    "list1 = [0,1,2,3,4,5,6,7,8,9]\n",
    "# iteration\n",
    "for num in list1:\n",
    "   # check\n",
    "   if num % 2 == 0:\n",
    "      print(num)"
   ]
  },
  {
   "cell_type": "code",
   "execution_count": 201,
   "id": "557bc1e4",
   "metadata": {},
   "outputs": [
    {
     "name": "stdout",
     "output_type": "stream",
     "text": [
      "8\n",
      "10\n",
      "8\n",
      "4\n",
      "6\n"
     ]
    }
   ],
   "source": [
    "import random\n",
    "for i in range(5):\n",
    "               print(random.randint(1,10))"
   ]
  },
  {
   "cell_type": "code",
   "execution_count": 206,
   "id": "f6114e9a",
   "metadata": {},
   "outputs": [
    {
     "name": "stdout",
     "output_type": "stream",
     "text": [
      "Type exit to exit\n",
      "hello\n",
      "You typed hello.\n",
      "Type exit to exit\n",
      "exit\n"
     ]
    },
    {
     "ename": "SystemExit",
     "evalue": "",
     "output_type": "error",
     "traceback": [
      "An exception has occurred, use %tb to see the full traceback.\n",
      "\u001b[0;31mSystemExit\u001b[0m\n"
     ]
    }
   ],
   "source": [
    "import sys\n",
    "\n",
    "while True:\n",
    "    print('Type exit to exit')\n",
    "    reponse = input()\n",
    "    if reponse == 'exit':\n",
    "        sys.exit()\n",
    "    print('You typed ' + reponse + '.')"
   ]
  },
  {
   "cell_type": "code",
   "execution_count": 208,
   "id": "3e4cf9d2",
   "metadata": {},
   "outputs": [
    {
     "name": "stdout",
     "output_type": "stream",
     "text": [
      "I am thinking of a number between 1 and 20.\n",
      "Take a guess.\n",
      "10\n",
      "Your guess is too low.\n",
      "Take a guess.\n",
      "15\n",
      "Your guess is too low.\n",
      "Take a guess.\n",
      "16\n",
      "Your guess is too low.\n",
      "Take a guess.\n",
      "17\n",
      "Your guess is too low.\n",
      "Take a guess.\n",
      "20\n",
      "Your guess is too high.\n",
      "Take a guess.\n",
      "19\n",
      "Good job! You guessed my number in 6guesses!\n"
     ]
    }
   ],
   "source": [
    "# This is a guess the number game.\n",
    "import random\n",
    "secretNumber = random.randint(1, 20)\n",
    "print('I am thinking of a number between 1 and 20.')\n",
    "# Ask the player to guess 6 times.\n",
    "for guessesTaken in range(1, 7):\n",
    "    print('Take a guess.')\n",
    "    guess = int(input())\n",
    "    if guess < secretNumber:\n",
    "        print('Your guess is too low.')\n",
    "    elif guess > secretNumber:\n",
    "        print('Your guess is too high.')\n",
    "    else:\n",
    "        break    # This condition is the correct guess!\n",
    "if guess == secretNumber:\n",
    "    print('Good job! You guessed my number in ' + str(guessesTaken) + 'guesses!')\n",
    "else:\n",
    "    print('Nope. The number I was thinking of was ' + str(secretNumber))"
   ]
  },
  {
   "cell_type": "code",
   "execution_count": 209,
   "id": "f437d485",
   "metadata": {},
   "outputs": [
    {
     "name": "stdout",
     "output_type": "stream",
     "text": [
      "ROCK, PAPER, SCISSORS\n",
      "0 Wins, 0 Losses, 0 Ties\n",
      "Enter your move: (r)ock (p)aper (s)cissors or (q)uit\n",
      "r\n",
      "ROCK versus...\n",
      "SCISSORS\n",
      "You win!\n",
      "1 Wins, 0 Losses, 0 Ties\n",
      "Enter your move: (r)ock (p)aper (s)cissors or (q)uit\n",
      "s\n",
      "SCISSORS versus...\n",
      "ROCK\n",
      "You lose!\n",
      "1 Wins, 1 Losses, 0 Ties\n",
      "Enter your move: (r)ock (p)aper (s)cissors or (q)uit\n",
      "p\n",
      "PAPER versus...\n",
      "ROCK\n",
      "You win!\n",
      "2 Wins, 1 Losses, 0 Ties\n",
      "Enter your move: (r)ock (p)aper (s)cissors or (q)uit\n",
      "r\n",
      "ROCK versus...\n",
      "SCISSORS\n",
      "You win!\n",
      "3 Wins, 1 Losses, 0 Ties\n",
      "Enter your move: (r)ock (p)aper (s)cissors or (q)uit\n",
      "s\n",
      "SCISSORS versus...\n",
      "SCISSORS\n",
      "It is a tie!\n",
      "3 Wins, 1 Losses, 1 Ties\n",
      "Enter your move: (r)ock (p)aper (s)cissors or (q)uit\n",
      "Q\n",
      "Type one of r, p, s, or q.\n",
      "Enter your move: (r)ock (p)aper (s)cissors or (q)uit\n",
      "q\n"
     ]
    },
    {
     "ename": "SystemExit",
     "evalue": "",
     "output_type": "error",
     "traceback": [
      "An exception has occurred, use %tb to see the full traceback.\n",
      "\u001b[0;31mSystemExit\u001b[0m\n"
     ]
    }
   ],
   "source": [
    "import random, sys\n",
    "print('ROCK, PAPER, SCISSORS')\n",
    "# These variables keep track of the number of wins, losses, and ties.\n",
    "wins = 0\n",
    "losses = 0\n",
    "ties = 0\n",
    "while True: # The main game loop.\n",
    "    print('%s Wins, %s Losses, %s Ties' % (wins, losses, ties))\n",
    "    while True: # The player input loop.\n",
    "        print('Enter your move: (r)ock (p)aper (s)cissors or (q)uit')\n",
    "        playerMove = input()\n",
    "        if playerMove == 'q':\n",
    "            sys.exit() # Quit the program.\n",
    "        if playerMove == 'r' or playerMove == 'p' or playerMove == 's':\n",
    "            break # Break out of the player input loop.\n",
    "        print('Type one of r, p, s, or q.')\n",
    "    # Display what the player chose:\n",
    "    if playerMove == 'r':\n",
    "        print('ROCK versus...')\n",
    "    elif playerMove == 'p':\n",
    "        print('PAPER versus...')\n",
    "    elif playerMove == 's':\n",
    "        print('SCISSORS versus...')\n",
    "    # Display what the computer chose:\n",
    "    randomNumber = random.randint(1, 3)\n",
    "    if randomNumber == 1:\n",
    "        computerMove = 'r'\n",
    "        print('ROCK')\n",
    "    elif randomNumber == 2:\n",
    "        computerMove = 'p'\n",
    "        print('PAPER')\n",
    "    elif randomNumber == 3:\n",
    "        computerMove = 's'\n",
    "        print('SCISSORS')\n",
    "    # Display and record the win/loss/tie:\n",
    "    if playerMove == computerMove:\n",
    "        print('It is a tie!')\n",
    "        ties = ties + 1\n",
    "    elif playerMove == 'r' and computerMove == 's':\n",
    "        print('You win!')\n",
    "        wins = wins + 1\n",
    "    elif playerMove == 'p' and computerMove == 'r':\n",
    "        print('You win!')\n",
    "        wins = wins + 1\n",
    "    elif playerMove == 's' and computerMove == 'p':\n",
    "        print('You win!')\n",
    "        wins = wins + 1\n",
    "    elif playerMove == 'r' and computerMove == 'p':\n",
    "        print('You lose!')\n",
    "        losses = losses + 1\n",
    "    elif playerMove == 'p' and computerMove == 's':\n",
    "        print('You lose!')\n",
    "        losses = losses + 1\n",
    "    elif playerMove == 's' and computerMove == 'r':\n",
    "        print('You lose!')\n",
    "        losses = losses + 1"
   ]
  },
  {
   "cell_type": "code",
   "execution_count": 215,
   "id": "6d5e91b2",
   "metadata": {},
   "outputs": [
    {
     "name": "stdout",
     "output_type": "stream",
     "text": [
      "Howdy\n",
      "Howdy!!!\n",
      "Hello there.\n"
     ]
    }
   ],
   "source": [
    "def hello():\n",
    "    print('Howdy')\n",
    "    print('Howdy!!!')\n",
    "    print('Hello there.')\n",
    "    \n",
    "hello()"
   ]
  },
  {
   "cell_type": "code",
   "execution_count": 216,
   "id": "e3d1f38b",
   "metadata": {},
   "outputs": [
    {
     "name": "stdout",
     "output_type": "stream",
     "text": [
      "Hello, Alice\n",
      "Hello, Bobo\n"
     ]
    }
   ],
   "source": [
    "def hello(name):\n",
    "    print('Hello, ' + name)\n",
    "    \n",
    "hello('Alice')\n",
    "hello(\"Bobo\")"
   ]
  },
  {
   "cell_type": "code",
   "execution_count": 258,
   "id": "c098ee3e",
   "metadata": {},
   "outputs": [
    {
     "name": "stdout",
     "output_type": "stream",
     "text": [
      "It is decidedly so\n"
     ]
    }
   ],
   "source": [
    "import random\n",
    "def getAnswer(answerNumber): \n",
    "    if answerNumber == 1:\n",
    "        return 'It is certain'\n",
    "    elif answerNumber == 2:\n",
    "        return 'It is decidedly so'\n",
    "    elif answerNumber == 3:\n",
    "        return 'Yes'\n",
    "    elif answerNumber == 4:\n",
    "        return 'Reply hazy try again'\n",
    "    elif answerNumber == 5:\n",
    "        return 'Ask again later'\n",
    "    elif answerNumber == 6:\n",
    "        return 'Concentrate and ask again'\n",
    "    elif answerNumber == 7:\n",
    "        return 'My reply is no'\n",
    "    elif answerNumber == 8:\n",
    "        return 'Outlook not so good'\n",
    "    elif answerNumber == 9:\n",
    "        return 'Very doubtful'\n",
    "    \n",
    "print(getAnswer(random.randint(1, 9)))\n"
   ]
  },
  {
   "cell_type": "code",
   "execution_count": 259,
   "id": "f483ff91",
   "metadata": {},
   "outputs": [
    {
     "name": "stdout",
     "output_type": "stream",
     "text": [
      "hello\n"
     ]
    }
   ],
   "source": [
    "spam = print('hello')"
   ]
  },
  {
   "cell_type": "code",
   "execution_count": 260,
   "id": "45509f49",
   "metadata": {},
   "outputs": [
    {
     "data": {
      "text/plain": [
       "True"
      ]
     },
     "execution_count": 260,
     "metadata": {},
     "output_type": "execute_result"
    }
   ],
   "source": [
    "None == spam"
   ]
  },
  {
   "cell_type": "code",
   "execution_count": 261,
   "id": "fa0270cb",
   "metadata": {},
   "outputs": [
    {
     "name": "stdout",
     "output_type": "stream",
     "text": [
      "HelloWorld\n"
     ]
    }
   ],
   "source": [
    "print('Hello', end='')\n",
    "print('World')"
   ]
  },
  {
   "cell_type": "code",
   "execution_count": 262,
   "id": "a9aca9ac",
   "metadata": {},
   "outputs": [
    {
     "name": "stdout",
     "output_type": "stream",
     "text": [
      "cars,dogs,bikes\n"
     ]
    }
   ],
   "source": [
    "print('cars', 'dogs', 'bikes', sep=',')"
   ]
  },
  {
   "cell_type": "code",
   "execution_count": 263,
   "id": "038ade58",
   "metadata": {},
   "outputs": [],
   "source": [
    "# How to conver to data type to another data type value\n",
    "\n",
    "x = 1\n",
    "y = 2.0\n",
    "z = '3'\n",
    "\n",
    "y = int(y) # to convert a float to a integer\n",
    "z = int(z) # to convert a sring into a integer\n",
    "\n",
    "y = float(y) # to convert a float to a integer\n",
    "z = float(z) # to convert a string to a float"
   ]
  },
  {
   "cell_type": "code",
   "execution_count": 265,
   "id": "1c15f653",
   "metadata": {},
   "outputs": [
    {
     "name": "stdout",
     "output_type": "stream",
     "text": [
      "What is your name?: moe\n",
      "How old are you?: 27\n",
      "How tall are you?: 5.9\n",
      "Hello moe\n",
      "You are 27 years old\n",
      "Yu are 5.9feet tall\n"
     ]
    }
   ],
   "source": [
    "# how to convert input responses to str floats and intgers\n",
    "\n",
    "name = input(\"What is your name?: \")\n",
    "age = int(input(\"How old are you?: \"))\n",
    "height = float(input(\"How tall are you?:\"\" \"))\n",
    "\n",
    "\n",
    "print(\"Hello \" +name)\n",
    "print(\"You are \"+str(age)+\" years old\")\n",
    "print(\"Yu are \"+str(height)+ \"feet tall\")"
   ]
  },
  {
   "cell_type": "code",
   "execution_count": 280,
   "id": "3f4f277a",
   "metadata": {},
   "outputs": [],
   "source": [
    "import math\n",
    "\n",
    "pi = 3.14\n",
    "\n",
    "\n",
    "\n",
    "# print(round(pi)) # rounds the decimal point \n",
    "# print(math.ceil(pi)) # rounds the decimal point up\n",
    "# print(math.floor(pi)) # rounds the decimal point down\n",
    "# print(abs(pi)) # Conversts a number from negative to positive\n",
    "# print(pow(pi, 2))# raises th power function by 2 or ny number indicated\n",
    "# print(math.sqrt(420)) # square root a number \n",
    "# min and max fuction are used to gather the largest or smallest number in a set of values "
   ]
  },
  {
   "cell_type": "code",
   "execution_count": 15,
   "id": "7f625684",
   "metadata": {},
   "outputs": [
    {
     "ename": "TypeError",
     "evalue": "'slice' object is not callable",
     "output_type": "error",
     "traceback": [
      "\u001b[0;31m---------------------------------------------------------------------------\u001b[0m",
      "\u001b[0;31mTypeError\u001b[0m                                 Traceback (most recent call last)",
      "\u001b[0;32m<ipython-input-15-3f9a6510fdd9>\u001b[0m in \u001b[0;36m<module>\u001b[0;34m\u001b[0m\n\u001b[1;32m     17\u001b[0m \u001b[0mwebsite\u001b[0m \u001b[0;34m=\u001b[0m \u001b[0;34m\"http:.//www.google.com\"\u001b[0m\u001b[0;34m\u001b[0m\u001b[0;34m\u001b[0m\u001b[0m\n\u001b[1;32m     18\u001b[0m \u001b[0;34m\u001b[0m\u001b[0m\n\u001b[0;32m---> 19\u001b[0;31m \u001b[0mslice\u001b[0m\u001b[0;34m(\u001b[0m\u001b[0;36m7\u001b[0m\u001b[0;34m,\u001b[0m \u001b[0;34m-\u001b[0m\u001b[0;36m4\u001b[0m\u001b[0;34m)\u001b[0m\u001b[0;34m\u001b[0m\u001b[0;34m\u001b[0m\u001b[0m\n\u001b[0m\u001b[1;32m     20\u001b[0m \u001b[0;34m\u001b[0m\u001b[0m\n\u001b[1;32m     21\u001b[0m \u001b[0mprint\u001b[0m\u001b[0;34m(\u001b[0m\u001b[0mwebsite\u001b[0m\u001b[0;34m[\u001b[0m\u001b[0mslice\u001b[0m\u001b[0;34m]\u001b[0m\u001b[0;34m)\u001b[0m\u001b[0;34m\u001b[0m\u001b[0;34m\u001b[0m\u001b[0m\n",
      "\u001b[0;31mTypeError\u001b[0m: 'slice' object is not callable"
     ]
    }
   ],
   "source": [
    "# how to use slicing in python\n",
    "# slicing = create a substring by extracting elements from another string \n",
    "#          indexing [] or slicing ()\n",
    "#          [start:stop:step]\n",
    "\n",
    "#name =  \"Bro Code\"\n",
    "\n",
    "#first_name = name[0:3]\n",
    "#last_name = name[4:8]\n",
    "#funky_name = name[::3]\n",
    "#reversed_name = name[::-1]\n",
    "\n",
    "#print(first_name) \n",
    "#print(last_name)\n",
    "#print (reversed_name)\n",
    "\n",
    "website = \"http:.//www.google.com\"\n",
    "\n",
    "slice(7, -4)\n",
    "\n",
    "print(website[slice])"
   ]
  },
  {
   "cell_type": "code",
   "execution_count": 7,
   "id": "c10329fc",
   "metadata": {},
   "outputs": [
    {
     "name": "stdout",
     "output_type": "stream",
     "text": [
      "How are old are you?: -1\n",
      "You haven't been born yet!\n"
     ]
    }
   ],
   "source": [
    "# if statements = a block of code that will execute if it's condition is true\n",
    "\n",
    "age = int(input(\"How are old are you?: \"))\n",
    "\n",
    "if age >= 18:\n",
    "    print(\"You are an adult!\")\n",
    "elif age == 100:\n",
    "    print(\"Ypu are old as hell!\")\n",
    "elif age < 0:\n",
    "    print(\"You haven't been born yet!\")\n",
    "else:\n",
    "    print(\"You are a child!\")\n",
    "          \n"
   ]
  },
  {
   "cell_type": "code",
   "execution_count": 8,
   "id": "5115d24e",
   "metadata": {},
   "outputs": [
    {
     "name": "stdout",
     "output_type": "stream",
     "text": [
      "What is the temperature outside?: -20\n",
      "the temperature is bad today!\n",
      "Stay inside!\n"
     ]
    }
   ],
   "source": [
    "# lofical (and, or, not) = used to check if two or more conditional statements\n",
    "\n",
    "temp = int(input(\"What is the temperature outside?: \"))\n",
    "\n",
    "if temp >= 0 and temp <= 30: \n",
    "    print(\"the temperature is good today!\")\n",
    "    print('go outside!')\n",
    "elif temp < 0 or temp  > 30:\n",
    "    print(\"the temperature is bad today!\")\n",
    "    print('Stay inside!')\n",
    "    \n",
    "    "
   ]
  },
  {
   "cell_type": "code",
   "execution_count": 18,
   "id": "c7ad15f4",
   "metadata": {},
   "outputs": [
    {
     "name": "stdout",
     "output_type": "stream",
     "text": [
      "21\n",
      "3.5\n",
      "Error: Invalid argument.\n",
      "None\n",
      "42.0\n",
      "1.75\n"
     ]
    }
   ],
   "source": [
    "def spam(divideBy):\n",
    "    try:\n",
    "        return 42 / divideBy\n",
    "    except ZeroDivisionError:\n",
    "        print('Error: Invalid argument.')\n",
    "        \n",
    "print(int(spam(2)))\n",
    "print(spam(12))\n",
    "print(spam(0))\n",
    "print(spam(1))\n",
    "print(spam(24))"
   ]
  },
  {
   "cell_type": "code",
   "execution_count": 23,
   "id": "ffefd78c",
   "metadata": {},
   "outputs": [
    {
     "name": "stdout",
     "output_type": "stream",
     "text": [
      "********\n",
      " ********\n",
      "  ********\n",
      "   ********\n",
      "    ********\n",
      "     ********\n",
      "      ********\n",
      "       ********\n",
      "        ********\n",
      "         ********\n",
      "          ********\n",
      "           ********\n",
      "            ********\n",
      "             ********\n",
      "              ********\n",
      "               ********\n",
      "                ********\n",
      "                 ********\n",
      "                  ********\n",
      "                   ********\n",
      "                    ********\n",
      "                   ********\n",
      "                  ********\n",
      "                 ********\n",
      "                ********\n",
      "               ********\n",
      "              ********\n",
      "             ********\n",
      "            ********\n",
      "           ********\n",
      "          ********\n",
      "         ********\n",
      "        ********\n",
      "       ********\n",
      "      ********\n",
      "     ********\n",
      "    ********\n",
      "   ********\n",
      "  ********\n",
      " ********\n",
      "********\n",
      " ********\n",
      "  ********\n",
      "   ********\n",
      "    ********\n",
      "     ********\n",
      "      ********\n",
      "       ********\n",
      "        ********\n",
      "         ********\n",
      "          ********\n",
      "           ********\n",
      "            ********\n",
      "             ********\n",
      "              ********\n",
      "               ********\n",
      "                ********\n",
      "                 ********\n",
      "                  ********\n",
      "                   ********\n",
      "                    ********\n",
      "                   ********\n",
      "                  ********\n",
      "                 ********\n",
      "                ********\n",
      "               ********\n",
      "              ********\n",
      "             ********\n",
      "            ********\n",
      "           ********\n",
      "          ********\n",
      "         ********\n",
      "        ********\n",
      "       ********\n",
      "      ********\n",
      "     ********\n",
      "    ********\n",
      "   ********\n",
      "  ********\n",
      " ********\n",
      "********\n",
      " ********\n",
      "  ********\n",
      "   ********\n",
      "    ********\n",
      "     ********\n",
      "      ********\n",
      "       ********\n",
      "        ********\n",
      "         ********\n",
      "          ********\n",
      "           ********\n",
      "            ********\n",
      "             ********\n",
      "              ********\n",
      "               ********\n",
      "                ********\n",
      "                 ********\n",
      "                  ********\n",
      "                   ********\n",
      "                    ********\n",
      "                   ********\n",
      "                  ********\n",
      "                 ********\n",
      "                ********\n",
      "               ********\n",
      "              ********\n",
      "             ********\n",
      "            ********\n",
      "           ********\n",
      "          ********\n",
      "         ********\n",
      "        ********\n",
      "       ********\n",
      "      ********\n",
      "     ********\n",
      "    ********\n",
      "   ********\n",
      "  ********\n",
      " ********\n",
      "********\n",
      " ********\n",
      "  ********\n",
      "   ********\n",
      "    ********\n",
      "     ********\n",
      "      ********\n",
      "       ********\n",
      "        ********\n",
      "         ********\n",
      "          ********\n",
      "           ********\n",
      "            ********\n",
      "             ********\n",
      "              ********\n",
      "               ********\n",
      "                ********\n",
      "                 ********\n",
      "                  ********\n",
      "                   ********\n",
      "                    ********\n",
      "                   ********\n",
      "                  ********\n",
      "                 ********\n",
      "                ********\n",
      "               ********\n",
      "              ********\n",
      "             ********\n",
      "            ********\n",
      "           ********\n",
      "          ********\n",
      "         ********\n",
      "        ********\n",
      "       ********\n",
      "      ********\n",
      "     ********\n",
      "    ********\n",
      "   ********\n",
      "  ********\n",
      " ********\n",
      "********\n",
      " ********\n",
      "  ********\n",
      "   ********\n",
      "    ********\n",
      "     ********\n",
      "      ********\n",
      "       ********\n",
      "        ********\n",
      "         ********\n",
      "          ********\n",
      "           ********\n",
      "            ********\n",
      "             ********\n",
      "              ********\n",
      "               ********\n",
      "                ********\n",
      "                 ********\n",
      "                  ********\n",
      "                   ********\n",
      "                    ********\n",
      "                   ********\n",
      "                  ********\n",
      "                 ********\n",
      "                ********\n",
      "               ********\n",
      "              ********\n",
      "             ********\n",
      "            ********\n",
      "           ********\n",
      "          ********\n",
      "         ********\n",
      "        ********\n",
      "       ********\n",
      "      ********\n",
      "     ********\n",
      "    ********\n",
      "   ********\n",
      "  ********\n",
      " ********\n",
      "********\n",
      " ********\n",
      "  ********\n",
      "   ********\n",
      "    ********\n",
      "     ********\n",
      "      ********\n",
      "       ********\n",
      "        ********\n",
      "         ********\n",
      "          ********\n",
      "           ********\n",
      "            ********\n",
      "             ********\n",
      "              ********\n",
      "               ********\n",
      "                ********\n",
      "                 ********\n",
      "                  ********\n",
      "                   ********\n",
      "                    ********\n",
      "                   ********\n",
      "                  ********\n",
      "                 ********\n",
      "                ********\n",
      "               ********\n",
      "              ********\n",
      "             ********\n",
      "            ********\n",
      "           ********\n",
      "          ********\n",
      "         ********\n",
      "        ********\n",
      "       ********\n",
      "      ********\n",
      "     ********\n",
      "    ********\n",
      "   ********\n",
      "  ********\n",
      " ********\n",
      "********\n",
      " ********\n",
      "  ********\n",
      "   ********\n",
      "    ********\n",
      "     ********\n",
      "      ********\n",
      "       ********\n",
      "        ********\n",
      "         ********\n",
      "          ********\n",
      "           ********\n",
      "            ********\n",
      "             ********\n",
      "              ********\n",
      "               ********\n"
     ]
    },
    {
     "name": "stderr",
     "output_type": "stream",
     "text": [
      "ERROR:root:Internal Python error in the inspect module.\n",
      "Below is the traceback from this internal error.\n",
      "\n"
     ]
    },
    {
     "name": "stdout",
     "output_type": "stream",
     "text": [
      "                ********\n",
      "Traceback (most recent call last):\n",
      "  File \"<ipython-input-23-f520da7604d2>\", line 8, in <module>\n",
      "    time.sleep(0.1) # Pause for 1/10 of a second.\n",
      "KeyboardInterrupt\n",
      "\n",
      "During handling of the above exception, another exception occurred:\n",
      "\n",
      "Traceback (most recent call last):\n",
      "  File \"/Applications/anaconda3/envs/PythonData/lib/python3.7/site-packages/IPython/core/interactiveshell.py\", line 3437, in run_code\n",
      "    exec(code_obj, self.user_global_ns, self.user_ns)\n",
      "  File \"<ipython-input-23-f520da7604d2>\", line 22, in <module>\n",
      "    sys.exit()\n",
      "SystemExit\n",
      "\n",
      "During handling of the above exception, another exception occurred:\n",
      "\n",
      "Traceback (most recent call last):\n",
      "  File \"/Applications/anaconda3/envs/PythonData/lib/python3.7/site-packages/IPython/core/ultratb.py\", line 1101, in get_records\n",
      "    return _fixed_getinnerframes(etb, number_of_lines_of_context, tb_offset)\n",
      "  File \"/Applications/anaconda3/envs/PythonData/lib/python3.7/site-packages/IPython/core/ultratb.py\", line 248, in wrapped\n",
      "    return f(*args, **kwargs)\n",
      "  File \"/Applications/anaconda3/envs/PythonData/lib/python3.7/site-packages/IPython/core/ultratb.py\", line 281, in _fixed_getinnerframes\n",
      "    records = fix_frame_records_filenames(inspect.getinnerframes(etb, context))\n",
      "  File \"/Applications/anaconda3/envs/PythonData/lib/python3.7/inspect.py\", line 1502, in getinnerframes\n",
      "    frameinfo = (tb.tb_frame,) + getframeinfo(tb, context)\n",
      "AttributeError: 'tuple' object has no attribute 'tb_frame'\n"
     ]
    },
    {
     "ename": "TypeError",
     "evalue": "object of type 'NoneType' has no len()",
     "output_type": "error",
     "traceback": [
      "\u001b[0;31m---------------------------------------------------------------------------\u001b[0m",
      "\u001b[0;31mKeyboardInterrupt\u001b[0m                         Traceback (most recent call last)",
      "\u001b[0;32m<ipython-input-23-f520da7604d2>\u001b[0m in \u001b[0;36m<module>\u001b[0;34m\u001b[0m\n\u001b[1;32m      7\u001b[0m         \u001b[0mprint\u001b[0m\u001b[0;34m(\u001b[0m\u001b[0;34m'********'\u001b[0m\u001b[0;34m)\u001b[0m\u001b[0;34m\u001b[0m\u001b[0;34m\u001b[0m\u001b[0m\n\u001b[0;32m----> 8\u001b[0;31m         \u001b[0mtime\u001b[0m\u001b[0;34m.\u001b[0m\u001b[0msleep\u001b[0m\u001b[0;34m(\u001b[0m\u001b[0;36m0.1\u001b[0m\u001b[0;34m)\u001b[0m \u001b[0;31m# Pause for 1/10 of a second.\u001b[0m\u001b[0;34m\u001b[0m\u001b[0;34m\u001b[0m\u001b[0m\n\u001b[0m\u001b[1;32m      9\u001b[0m         \u001b[0;32mif\u001b[0m \u001b[0mindentIncreasing\u001b[0m\u001b[0;34m:\u001b[0m\u001b[0;34m\u001b[0m\u001b[0;34m\u001b[0m\u001b[0m\n",
      "\u001b[0;31mKeyboardInterrupt\u001b[0m: ",
      "\nDuring handling of the above exception, another exception occurred:\n",
      "\u001b[0;31mSystemExit\u001b[0m                                Traceback (most recent call last)",
      "    \u001b[0;31m[... skipping hidden 1 frame]\u001b[0m\n",
      "\u001b[0;32m<ipython-input-23-f520da7604d2>\u001b[0m in \u001b[0;36m<module>\u001b[0;34m\u001b[0m\n\u001b[1;32m     21\u001b[0m \u001b[0;32mexcept\u001b[0m \u001b[0mKeyboardInterrupt\u001b[0m\u001b[0;34m:\u001b[0m\u001b[0;34m\u001b[0m\u001b[0;34m\u001b[0m\u001b[0m\n\u001b[0;32m---> 22\u001b[0;31m     \u001b[0msys\u001b[0m\u001b[0;34m.\u001b[0m\u001b[0mexit\u001b[0m\u001b[0;34m(\u001b[0m\u001b[0;34m)\u001b[0m\u001b[0;34m\u001b[0m\u001b[0;34m\u001b[0m\u001b[0m\n\u001b[0m",
      "\u001b[0;31mSystemExit\u001b[0m: ",
      "\nDuring handling of the above exception, another exception occurred:\n",
      "\u001b[0;31mTypeError\u001b[0m                                 Traceback (most recent call last)",
      "    \u001b[0;31m[... skipping hidden 1 frame]\u001b[0m\n",
      "\u001b[0;32m/Applications/anaconda3/envs/PythonData/lib/python3.7/site-packages/IPython/core/interactiveshell.py\u001b[0m in \u001b[0;36mshowtraceback\u001b[0;34m(self, exc_tuple, filename, tb_offset, exception_only, running_compiled_code)\u001b[0m\n\u001b[1;32m   2053\u001b[0m                            'the full traceback.\\n']\n\u001b[1;32m   2054\u001b[0m                     stb.extend(self.InteractiveTB.get_exception_only(etype,\n\u001b[0;32m-> 2055\u001b[0;31m                                                                      value))\n\u001b[0m\u001b[1;32m   2056\u001b[0m                 \u001b[0;32melse\u001b[0m\u001b[0;34m:\u001b[0m\u001b[0;34m\u001b[0m\u001b[0;34m\u001b[0m\u001b[0m\n\u001b[1;32m   2057\u001b[0m                     \u001b[0;32mtry\u001b[0m\u001b[0;34m:\u001b[0m\u001b[0;34m\u001b[0m\u001b[0;34m\u001b[0m\u001b[0m\n",
      "\u001b[0;32m/Applications/anaconda3/envs/PythonData/lib/python3.7/site-packages/IPython/core/ultratb.py\u001b[0m in \u001b[0;36mget_exception_only\u001b[0;34m(self, etype, value)\u001b[0m\n\u001b[1;32m    752\u001b[0m         \u001b[0mvalue\u001b[0m \u001b[0;34m:\u001b[0m \u001b[0mexception\u001b[0m \u001b[0mvalue\u001b[0m\u001b[0;34m\u001b[0m\u001b[0;34m\u001b[0m\u001b[0m\n\u001b[1;32m    753\u001b[0m         \"\"\"\n\u001b[0;32m--> 754\u001b[0;31m         \u001b[0;32mreturn\u001b[0m \u001b[0mListTB\u001b[0m\u001b[0;34m.\u001b[0m\u001b[0mstructured_traceback\u001b[0m\u001b[0;34m(\u001b[0m\u001b[0mself\u001b[0m\u001b[0;34m,\u001b[0m \u001b[0metype\u001b[0m\u001b[0;34m,\u001b[0m \u001b[0mvalue\u001b[0m\u001b[0;34m)\u001b[0m\u001b[0;34m\u001b[0m\u001b[0;34m\u001b[0m\u001b[0m\n\u001b[0m\u001b[1;32m    755\u001b[0m \u001b[0;34m\u001b[0m\u001b[0m\n\u001b[1;32m    756\u001b[0m     \u001b[0;32mdef\u001b[0m \u001b[0mshow_exception_only\u001b[0m\u001b[0;34m(\u001b[0m\u001b[0mself\u001b[0m\u001b[0;34m,\u001b[0m \u001b[0metype\u001b[0m\u001b[0;34m,\u001b[0m \u001b[0mevalue\u001b[0m\u001b[0;34m)\u001b[0m\u001b[0;34m:\u001b[0m\u001b[0;34m\u001b[0m\u001b[0;34m\u001b[0m\u001b[0m\n",
      "\u001b[0;32m/Applications/anaconda3/envs/PythonData/lib/python3.7/site-packages/IPython/core/ultratb.py\u001b[0m in \u001b[0;36mstructured_traceback\u001b[0;34m(self, etype, evalue, etb, tb_offset, context)\u001b[0m\n\u001b[1;32m    631\u001b[0m                     chained_exceptions_tb_offset, context)\n\u001b[1;32m    632\u001b[0m                 \u001b[0;34m+\u001b[0m \u001b[0mchained_exception_message\u001b[0m\u001b[0;34m\u001b[0m\u001b[0;34m\u001b[0m\u001b[0m\n\u001b[0;32m--> 633\u001b[0;31m                 + out_list)\n\u001b[0m\u001b[1;32m    634\u001b[0m \u001b[0;34m\u001b[0m\u001b[0m\n\u001b[1;32m    635\u001b[0m         \u001b[0;32mreturn\u001b[0m \u001b[0mout_list\u001b[0m\u001b[0;34m\u001b[0m\u001b[0;34m\u001b[0m\u001b[0m\n",
      "\u001b[0;32m/Applications/anaconda3/envs/PythonData/lib/python3.7/site-packages/IPython/core/ultratb.py\u001b[0m in \u001b[0;36mstructured_traceback\u001b[0;34m(self, etype, value, tb, tb_offset, number_of_lines_of_context)\u001b[0m\n\u001b[1;32m   1366\u001b[0m             \u001b[0mself\u001b[0m\u001b[0;34m.\u001b[0m\u001b[0mtb\u001b[0m \u001b[0;34m=\u001b[0m \u001b[0mtb\u001b[0m\u001b[0;34m\u001b[0m\u001b[0;34m\u001b[0m\u001b[0m\n\u001b[1;32m   1367\u001b[0m         return FormattedTB.structured_traceback(\n\u001b[0;32m-> 1368\u001b[0;31m             self, etype, value, tb, tb_offset, number_of_lines_of_context)\n\u001b[0m\u001b[1;32m   1369\u001b[0m \u001b[0;34m\u001b[0m\u001b[0m\n\u001b[1;32m   1370\u001b[0m \u001b[0;34m\u001b[0m\u001b[0m\n",
      "\u001b[0;32m/Applications/anaconda3/envs/PythonData/lib/python3.7/site-packages/IPython/core/ultratb.py\u001b[0m in \u001b[0;36mstructured_traceback\u001b[0;34m(self, etype, value, tb, tb_offset, number_of_lines_of_context)\u001b[0m\n\u001b[1;32m   1266\u001b[0m             \u001b[0;31m# Verbose modes need a full traceback\u001b[0m\u001b[0;34m\u001b[0m\u001b[0;34m\u001b[0m\u001b[0;34m\u001b[0m\u001b[0m\n\u001b[1;32m   1267\u001b[0m             return VerboseTB.structured_traceback(\n\u001b[0;32m-> 1268\u001b[0;31m                 \u001b[0mself\u001b[0m\u001b[0;34m,\u001b[0m \u001b[0metype\u001b[0m\u001b[0;34m,\u001b[0m \u001b[0mvalue\u001b[0m\u001b[0;34m,\u001b[0m \u001b[0mtb\u001b[0m\u001b[0;34m,\u001b[0m \u001b[0mtb_offset\u001b[0m\u001b[0;34m,\u001b[0m \u001b[0mnumber_of_lines_of_context\u001b[0m\u001b[0;34m\u001b[0m\u001b[0;34m\u001b[0m\u001b[0m\n\u001b[0m\u001b[1;32m   1269\u001b[0m             )\n\u001b[1;32m   1270\u001b[0m         \u001b[0;32melif\u001b[0m \u001b[0mmode\u001b[0m \u001b[0;34m==\u001b[0m \u001b[0;34m'Minimal'\u001b[0m\u001b[0;34m:\u001b[0m\u001b[0;34m\u001b[0m\u001b[0;34m\u001b[0m\u001b[0m\n",
      "\u001b[0;32m/Applications/anaconda3/envs/PythonData/lib/python3.7/site-packages/IPython/core/ultratb.py\u001b[0m in \u001b[0;36mstructured_traceback\u001b[0;34m(self, etype, evalue, etb, tb_offset, number_of_lines_of_context)\u001b[0m\n\u001b[1;32m   1123\u001b[0m \u001b[0;34m\u001b[0m\u001b[0m\n\u001b[1;32m   1124\u001b[0m         formatted_exception = self.format_exception_as_a_whole(etype, evalue, etb, number_of_lines_of_context,\n\u001b[0;32m-> 1125\u001b[0;31m                                                                tb_offset)\n\u001b[0m\u001b[1;32m   1126\u001b[0m \u001b[0;34m\u001b[0m\u001b[0m\n\u001b[1;32m   1127\u001b[0m         \u001b[0mcolors\u001b[0m \u001b[0;34m=\u001b[0m \u001b[0mself\u001b[0m\u001b[0;34m.\u001b[0m\u001b[0mColors\u001b[0m  \u001b[0;31m# just a shorthand + quicker name lookup\u001b[0m\u001b[0;34m\u001b[0m\u001b[0;34m\u001b[0m\u001b[0m\n",
      "\u001b[0;32m/Applications/anaconda3/envs/PythonData/lib/python3.7/site-packages/IPython/core/ultratb.py\u001b[0m in \u001b[0;36mformat_exception_as_a_whole\u001b[0;34m(self, etype, evalue, etb, number_of_lines_of_context, tb_offset)\u001b[0m\n\u001b[1;32m   1080\u001b[0m \u001b[0;34m\u001b[0m\u001b[0m\n\u001b[1;32m   1081\u001b[0m \u001b[0;34m\u001b[0m\u001b[0m\n\u001b[0;32m-> 1082\u001b[0;31m         \u001b[0mlast_unique\u001b[0m\u001b[0;34m,\u001b[0m \u001b[0mrecursion_repeat\u001b[0m \u001b[0;34m=\u001b[0m \u001b[0mfind_recursion\u001b[0m\u001b[0;34m(\u001b[0m\u001b[0morig_etype\u001b[0m\u001b[0;34m,\u001b[0m \u001b[0mevalue\u001b[0m\u001b[0;34m,\u001b[0m \u001b[0mrecords\u001b[0m\u001b[0;34m)\u001b[0m\u001b[0;34m\u001b[0m\u001b[0;34m\u001b[0m\u001b[0m\n\u001b[0m\u001b[1;32m   1083\u001b[0m \u001b[0;34m\u001b[0m\u001b[0m\n\u001b[1;32m   1084\u001b[0m         \u001b[0mframes\u001b[0m \u001b[0;34m=\u001b[0m \u001b[0mself\u001b[0m\u001b[0;34m.\u001b[0m\u001b[0mformat_records\u001b[0m\u001b[0;34m(\u001b[0m\u001b[0mrecords\u001b[0m\u001b[0;34m,\u001b[0m \u001b[0mlast_unique\u001b[0m\u001b[0;34m,\u001b[0m \u001b[0mrecursion_repeat\u001b[0m\u001b[0;34m)\u001b[0m\u001b[0;34m\u001b[0m\u001b[0;34m\u001b[0m\u001b[0m\n",
      "\u001b[0;32m/Applications/anaconda3/envs/PythonData/lib/python3.7/site-packages/IPython/core/ultratb.py\u001b[0m in \u001b[0;36mfind_recursion\u001b[0;34m(etype, value, records)\u001b[0m\n\u001b[1;32m    380\u001b[0m     \u001b[0;31m# first frame (from in to out) that looks different.\u001b[0m\u001b[0;34m\u001b[0m\u001b[0;34m\u001b[0m\u001b[0;34m\u001b[0m\u001b[0m\n\u001b[1;32m    381\u001b[0m     \u001b[0;32mif\u001b[0m \u001b[0;32mnot\u001b[0m \u001b[0mis_recursion_error\u001b[0m\u001b[0;34m(\u001b[0m\u001b[0metype\u001b[0m\u001b[0;34m,\u001b[0m \u001b[0mvalue\u001b[0m\u001b[0;34m,\u001b[0m \u001b[0mrecords\u001b[0m\u001b[0;34m)\u001b[0m\u001b[0;34m:\u001b[0m\u001b[0;34m\u001b[0m\u001b[0;34m\u001b[0m\u001b[0m\n\u001b[0;32m--> 382\u001b[0;31m         \u001b[0;32mreturn\u001b[0m \u001b[0mlen\u001b[0m\u001b[0;34m(\u001b[0m\u001b[0mrecords\u001b[0m\u001b[0;34m)\u001b[0m\u001b[0;34m,\u001b[0m \u001b[0;36m0\u001b[0m\u001b[0;34m\u001b[0m\u001b[0;34m\u001b[0m\u001b[0m\n\u001b[0m\u001b[1;32m    383\u001b[0m \u001b[0;34m\u001b[0m\u001b[0m\n\u001b[1;32m    384\u001b[0m     \u001b[0;31m# Select filename, lineno, func_name to track frames with\u001b[0m\u001b[0;34m\u001b[0m\u001b[0;34m\u001b[0m\u001b[0;34m\u001b[0m\u001b[0m\n",
      "\u001b[0;31mTypeError\u001b[0m: object of type 'NoneType' has no len()"
     ]
    }
   ],
   "source": [
    "import time, sys\n",
    "indent = 0 # How many spaces to indent.\n",
    "indentIncreasing = True # Whether the indentation is increasing or not.\n",
    "try:\n",
    "    while True: # The main program loop.\n",
    "        print(' ' * indent, end='')\n",
    "        print('********')\n",
    "        time.sleep(0.1) # Pause for 1/10 of a second.\n",
    "        if indentIncreasing:\n",
    "            # Increase the number of spaces:\n",
    "            indent = indent + 1\n",
    "            if indent == 20:\n",
    "                # Change direction:\n",
    "                indentIncreasing = False\n",
    "        else:\n",
    "            # Decrease the number of spaces:\n",
    "            indent = indent - 1\n",
    "            if indent == 0:\n",
    "                # Change direction:\n",
    "                indentIncreasing = True\n",
    "except KeyboardInterrupt:\n",
    "    sys.exit()"
   ]
  },
  {
   "cell_type": "code",
   "execution_count": 1,
   "id": "6602dd53",
   "metadata": {},
   "outputs": [
    {
     "name": "stdout",
     "output_type": "stream",
     "text": [
      "Enter your name: \n",
      "Enter your name: \n",
      "Enter your name: bri\n",
      "Hello bri\n"
     ]
    }
   ],
   "source": [
    "# While loop = a statement that will execute it's block of code, as lon gas it's condition remains true\n",
    "\n",
    "name = \"\"\n",
    "\n",
    "while len(name) == 0:\n",
    "    name = input(\"Enter your name: \")\n",
    "    \n",
    "print(\"Hello \"+name)"
   ]
  },
  {
   "cell_type": "code",
   "execution_count": 7,
   "id": "802d57e9",
   "metadata": {},
   "outputs": [
    {
     "name": "stdout",
     "output_type": "stream",
     "text": [
      "10\n",
      "9\n",
      "8\n",
      "7\n",
      "6\n",
      "5\n",
      "4\n",
      "3\n",
      "2\n",
      "1\n",
      "Hapy new Year!\n"
     ]
    }
   ],
   "source": [
    "import time\n",
    "# for loop = a statement tha twull execue it's block pf code a limited amount of time \n",
    "\n",
    "#                   while loop = unlimited \n",
    "#                   for loop = limited \n",
    "\n",
    "#for i in range(10):\n",
    "    #print(i + 1)\n",
    "    \n",
    "    \n",
    "#for i in range (50, 100 + 1, 2):\n",
    "    #print(i)\n",
    "    \n",
    "    \n",
    "#for i in \"Mohamed Ahmed\":\n",
    "   #print(i)\n",
    "    \n",
    "    \n",
    "for seconds in range(10,0, -1):\n",
    "    print(seconds)\n",
    "    time.sleep(1)\n",
    "print(\"Hapy new Year!\")\n",
    "    "
   ]
  },
  {
   "cell_type": "code",
   "execution_count": 2,
   "id": "1d1dcf46",
   "metadata": {},
   "outputs": [
    {
     "name": "stdout",
     "output_type": "stream",
     "text": [
      "How many rows?: 5\n",
      "How many columns?: 6\n",
      "Enter a symbol to use?: %\n",
      "%%%%%%\n",
      "%%%%%%\n",
      "%%%%%%\n",
      "%%%%%%\n",
      "%%%%%%\n"
     ]
    }
   ],
   "source": [
    "# nested loops = The \"inner loop\" will finish all of it's interations before finishing one interation of the \n",
    "#.                                                                           \"outer loop\" \n",
    "\n",
    "rows = int(input(\"How many rows?: \"))\n",
    "columns = int(input(\"How many columns?: \"))\n",
    "symbol = input(\"Enter a symbol to use?: \")\n",
    "\n",
    "\n",
    "for i in range(rows):\n",
    "    for J in range(columns):\n",
    "        print(symbol, end=\"\")\n",
    "    print()"
   ]
  },
  {
   "cell_type": "code",
   "execution_count": 5,
   "id": "8ad99d83",
   "metadata": {},
   "outputs": [
    {
     "name": "stdout",
     "output_type": "stream",
     "text": [
      "1\n",
      "2\n",
      "3\n",
      "4\n",
      "5\n",
      "6\n",
      "7\n",
      "8\n",
      "9\n",
      "10\n",
      "11\n",
      "12\n",
      "14\n",
      "15\n",
      "16\n",
      "17\n",
      "18\n",
      "19\n",
      "20\n"
     ]
    }
   ],
   "source": [
    "# Loop Controls Statements = change a loops execution from its normal sequence \n",
    "\n",
    "# break = used to terminate the loop entirely \n",
    "# continue  = skips to the next iteration of the loop.\n",
    "# pass = does nothing, acts as a placeholder\n",
    "\n",
    "\n",
    "# while True:\n",
    "#     name = input(\"Enter your name: \")\n",
    "#     if name != \"\":\n",
    "#         break \n",
    "        \n",
    "        \n",
    "# phone_number = \"123-456-7890\"\n",
    "\n",
    "# for i in phone_number:\n",
    "#     if i == \"-\":\n",
    "#         continue\n",
    "#     print(i, end=\"\")\n",
    "\n",
    "\n",
    "for i in range (1, 21):\n",
    "    \n",
    "    if i == 13:\n",
    "        pass\n",
    "    else:\n",
    "        print(i)"
   ]
  },
  {
   "cell_type": "code",
   "execution_count": 8,
   "id": "31bc229c",
   "metadata": {},
   "outputs": [
    {
     "name": "stdout",
     "output_type": "stream",
     "text": [
      "cake\n",
      "hamburger\n",
      "pudding\n",
      "spaghetti\n",
      "sushi\n"
     ]
    }
   ],
   "source": [
    "# list = used to store multiple items in a single variable \n",
    "\n",
    "food = [\"pizza\", \"hamburger\", \"hotdog\", \"spaghetti\", \"pudding\"]\n",
    "\n",
    "food[0] = \"sushi\"\n",
    "\n",
    "food.append(\"ice cream\")\n",
    "food.remove(\"hotdog\")\n",
    "food.pop()\n",
    "food.insert(0, \"cake\")\n",
    "food.sort()\n",
    "# food.clear()\n",
    "\n",
    "for x in food:\n",
    "    print(x)"
   ]
  },
  {
   "cell_type": "code",
   "execution_count": 9,
   "id": "24544659",
   "metadata": {},
   "outputs": [
    {
     "name": "stdout",
     "output_type": "stream",
     "text": [
      "[['coffe', 'soda', 'tea'], ['pizza', 'hamburger', 'hotdog'], ['cake', 'ice cream']]\n"
     ]
    }
   ],
   "source": [
    "# 2D lists = a lists of lists \n",
    "\n",
    "drinks = [\"coffe\", 'soda', \"tea\"]\n",
    "dinner = [\"pizza\", \"hamburger\", \"hotdog\"]\n",
    "dessert = [\"cake\",\"ice cream\"]\n",
    "\n",
    "food = [drinks, dinner, dessert]\n",
    "\n",
    "print(food)"
   ]
  },
  {
   "cell_type": "code",
   "execution_count": 10,
   "id": "b016a571",
   "metadata": {},
   "outputs": [
    {
     "name": "stdout",
     "output_type": "stream",
     "text": [
      "1\n",
      "2\n",
      "Bro\n",
      "21\n",
      "male\n",
      "Bro is here!\n"
     ]
    }
   ],
   "source": [
    "# tuple = collection which is ordered and unchangeable used to group togther realted data\n",
    "\n",
    "student = (\"Bro\", 21, \"male\")\n",
    "\n",
    "print(student.count(\"Bro\"))\n",
    "print(student.index(\"male\"))\n",
    "\n",
    "for x in student:\n",
    "    print(x)\n",
    "    \n",
    "if \"Bro\" in student:\n",
    "    print(\"Bro is here!\")"
   ]
  },
  {
   "cell_type": "code",
   "execution_count": 16,
   "id": "599724f0",
   "metadata": {},
   "outputs": [
    {
     "name": "stdout",
     "output_type": "stream",
     "text": [
      "{'spoon', 'fork'}\n",
      "{'knife'}\n"
     ]
    }
   ],
   "source": [
    "# set = collection which is unordred, unindexed. No duplicate values\n",
    "\n",
    "utensils = {\"fork\", \"spoon\", \"knife\"}\n",
    "dishes = {\"bowl\", \"plate\", \"cup\", \"knife\"}\n",
    "\n",
    "# utensils.add(\"napkin\")\n",
    "# utensils.remove(\"fork\")\n",
    "# untesils.clear()\n",
    "# utensils.update(dishes)\n",
    "# dinner_table = utensils.union(dishes)\n",
    "\n",
    "print(utensils.difference(dishes))\n",
    "print(utensils.intersection(dishes))"
   ]
  },
  {
   "cell_type": "code",
   "execution_count": 20,
   "id": "016ae485",
   "metadata": {},
   "outputs": [
    {
     "name": "stdout",
     "output_type": "stream",
     "text": [
      "Berlin\n",
      "Berlin\n",
      "USA Las Vegas\n",
      "India new Dehli\n",
      "China Beijing\n",
      "Russia Moscow\n",
      "Germany Berlin\n"
     ]
    }
   ],
   "source": [
    "# dictionary = A changeable, unordered colection of unique key:vlaue pairs \n",
    "#.             Fast because they use hashing, allow us to access a value quickly\n",
    "\n",
    "capitals = { \"USA\": \"Washington DC\",\n",
    "             \"India\": 'new Dehli',\n",
    "             \"China\": \"Beijing\",\n",
    "             \"Russia\": 'Moscow'}\n",
    "\n",
    "\n",
    "capitals.update({'Germany': 'Berlin'})\n",
    "capitals.update({'USA': 'Las Vegas'})\n",
    "# capitals.pop('China')\n",
    "# capitals.clear()\n",
    "\n",
    "print(capitals['Germany'])\n",
    "print(capitals.get('Germany'))\n",
    "\n",
    "\n",
    "for key, value in capitals.items():\n",
    "    print(key, value)"
   ]
  },
  {
   "cell_type": "code",
   "execution_count": 25,
   "id": "bf7f14c9",
   "metadata": {},
   "outputs": [
    {
     "name": "stdout",
     "output_type": "stream",
     "text": [
      "BRO\n",
      "code!\n",
      "!\n"
     ]
    }
   ],
   "source": [
    "# indexing operator [] = gives acces to a sequence's element (str, list, tuples)\n",
    "\n",
    "name = \"bro code!\"\n",
    "\n",
    "if(name[0].islower()):\n",
    "    name = name.capitalize()\n",
    "\n",
    "    \n",
    "first_name = name[:3].upper()\n",
    "last_name = name[4:].lower()\n",
    "last_character = name[-1]\n",
    "\n",
    "print(first_name)\n",
    "print(last_name)\n",
    "print(last_character)"
   ]
  },
  {
   "cell_type": "code",
   "execution_count": 35,
   "id": "cb5006cd",
   "metadata": {},
   "outputs": [
    {
     "name": "stdout",
     "output_type": "stream",
     "text": [
      "Hello Mohamed Ahmed!\n",
      "You are 27 years old\n",
      "Have a nice day!\n"
     ]
    }
   ],
   "source": [
    "# function = a block of code which is executed only when it is called \n",
    "\n",
    "def hello(first_name, last_name, age):\n",
    "    print(\"Hello \"+first_name+\" \"+last_name+\"!\")\n",
    "    print(\"You are \"+str(age)+\" years old\")\n",
    "    print(\"Have a nice day!\")\n",
    "    \n",
    "hello(\"Mohamed\", \"Ahmed\", 27)"
   ]
  },
  {
   "cell_type": "code",
   "execution_count": 45,
   "id": "f7f90d2b",
   "metadata": {},
   "outputs": [
    {
     "name": "stdout",
     "output_type": "stream",
     "text": [
      "48\n",
      "6.0\n",
      "True\n"
     ]
    }
   ],
   "source": [
    "# return statement = Function send Python values/object back to the callers.\n",
    "#.                   These value/objecs are known as the functions's return value \n",
    "\n",
    "def multiply(number1, number2):\n",
    "    return number1 * number2\n",
    "\n",
    "def division (number3, number4):\n",
    "    return number3 / number4\n",
    "\n",
    "def equal (number5, number6):\n",
    "    return number5 == number6\n",
    "\n",
    "x = multiply(6,8)\n",
    "z = division(48,8)\n",
    "y = equal(2,2)\n",
    "\n",
    "print(x)\n",
    "print(z)\n",
    "print(y)"
   ]
  },
  {
   "cell_type": "code",
   "execution_count": 47,
   "id": "a64093c1",
   "metadata": {},
   "outputs": [
    {
     "name": "stdout",
     "output_type": "stream",
     "text": [
      "Hello Moe Nasser ahmed\n"
     ]
    }
   ],
   "source": [
    "# keyword arguments = arguments preceded by an identifier when we pass them to a a function\n",
    "#                     The order of the arguments doesn't matter, unlike postional arguments \n",
    "#                     ython knows the names of the arguemnts that out function receives\n",
    "\n",
    "\n",
    "def hello(first, middle, last):\n",
    "    print(\"Hello \"+first+\" \"+middle+\" \"+last)\n",
    "    \n",
    "hello(last=\"ahmed\", middle=\"Nasser\", first=\"Moe\")"
   ]
  },
  {
   "cell_type": "code",
   "execution_count": 52,
   "id": "d53c6214",
   "metadata": {},
   "outputs": [
    {
     "name": "stdout",
     "output_type": "stream",
     "text": [
      "Enter a whole positive number: -36\n",
      "36\n",
      "Enter a whole positive number: -.106\n",
      "0\n"
     ]
    }
   ],
   "source": [
    "# nested function calles = function calls inside other function calls\n",
    "#                          innermost function calls are resolved first \n",
    "#                          returned values is used as arguemt for the next outer function \n",
    "\n",
    "num = input(\"Enter a whole positive number: \")\n",
    "num = float(num)\n",
    "num = abs(num)\n",
    "num = round(num)\n",
    "print(num)\n",
    "\n",
    "\n",
    "print(round(abs(float(input(\"Enter a whole positive number: \")))))"
   ]
  },
  {
   "cell_type": "code",
   "execution_count": 55,
   "id": "0be92854",
   "metadata": {},
   "outputs": [
    {
     "name": "stdout",
     "output_type": "stream",
     "text": [
      "Code\n",
      "Bro\n"
     ]
    }
   ],
   "source": [
    "# scope = The region that a variable is recongized \n",
    "#.        A variable is only available from the inside the region it is created.\n",
    "#.        A global abd locally scoped versions of a variable can be created \n",
    "\n",
    "\n",
    "name = \"Bro\" # global scope (avialable inside & outside fucnions)\n",
    "\n",
    "def display_name():\n",
    "    name = \"Code\"    # local scope (available only inside this function)\n",
    "    print(name)\n",
    "    \n",
    "    \n",
    "display_name()\n",
    "print(name)"
   ]
  },
  {
   "cell_type": "code",
   "execution_count": 57,
   "id": "cc6753a2",
   "metadata": {},
   "outputs": [
    {
     "name": "stdout",
     "output_type": "stream",
     "text": [
      "20\n"
     ]
    }
   ],
   "source": [
    "# *args = paramter that will pack all arguemts into a tuple \n",
    "#.       useful so that a function can accept a varying amount arguments \n",
    "\n",
    "def add(*stuff):\n",
    "    sum =0 \n",
    "    stuff = list(stuff)\n",
    "    stuff[0] = 0 \n",
    "    for i in stuff:\n",
    "        sum += i\n",
    "    return sum\n",
    "\n",
    "print(add(1,2,3,4,5,6))\n",
    "        "
   ]
  },
  {
   "cell_type": "code",
   "execution_count": 59,
   "id": "0347e21d",
   "metadata": {},
   "outputs": [
    {
     "name": "stdout",
     "output_type": "stream",
     "text": [
      "Hello Mr.  Bro Dude Code "
     ]
    }
   ],
   "source": [
    "# **kwargs = parameter that will pack all arguemnts into a dictionary. \n",
    "#.           useful so that a function can accpet a varying amount of keyword arguments \n",
    "\n",
    "def hello(**kwargs):\n",
    "    # print (\"Hello \" +kwargs['first'] + \" \" kwargs['last'])\n",
    "    print(\"Hello\", end=\" \")\n",
    "    for key, value in kwargs.items():\n",
    "        print(value,end=\" \")\n",
    "        \n",
    "hello(tittle=\"Mr. \", first='Bro',middle=\"Dude\",last=\"Code\")\n",
    "    "
   ]
  },
  {
   "cell_type": "code",
   "execution_count": 60,
   "id": "36e0fe62",
   "metadata": {},
   "outputs": [
    {
     "name": "stdout",
     "output_type": "stream",
     "text": [
      "the number pi is 1000.000\n",
      "the number is 1,000\n",
      "the number is 1000.000\n",
      "the number is 1111101000\n",
      "the number is 1750\n",
      "the number is 3E8\n",
      "the number is 1.000000E+03\n"
     ]
    }
   ],
   "source": [
    "# str.format() = optional method tha gives users more control when displaying output\n",
    "\n",
    "number = 1000\n",
    "\n",
    "print(\"the number pi is {:.3f}\".format(number))\n",
    "print(\"the number is {:,}\".format(number))\n",
    "print(\"the number is {:.3f}\".format(number))\n",
    "print(\"the number is {:b}\".format(number))\n",
    "print(\"the number is {:o}\".format(number))\n",
    "print(\"the number is {:X}\".format(number))\n",
    "print(\"the number is {:E}\".format(number))\n"
   ]
  },
  {
   "cell_type": "code",
   "execution_count": 71,
   "id": "151824f1",
   "metadata": {},
   "outputs": [],
   "source": [
    "def dispatch_if(operator, x, y):\n",
    "    if operator =='add':\n",
    "        return x + y\n",
    "    elif operator == 'sub':\n",
    "        return x- y\n",
    "    elif operator == 'mul':\n",
    "        return x * y\n",
    "    elif operator == 'div':\n",
    "        return x / y\n",
    "    else:\n",
    "        return None\n",
    "\n",
    "\n",
    "\n",
    "    "
   ]
  },
  {
   "cell_type": "code",
   "execution_count": 72,
   "id": "176f7072",
   "metadata": {},
   "outputs": [],
   "source": [
    "      \n",
    "def dispatch_dict(operator, x, y):\n",
    "    return{\n",
    "        'add': lambda: x + y,\n",
    "        'sub': lambda: x - y,\n",
    "        'mul': lambda: x * y,\n",
    "        'div': lambda: x / y,\n",
    "    }.get(operator, lambda: None)\n",
    "\n"
   ]
  },
  {
   "cell_type": "code",
   "execution_count": 73,
   "id": "980f3f1b",
   "metadata": {},
   "outputs": [
    {
     "data": {
      "text/plain": [
       "16"
      ]
     },
     "execution_count": 73,
     "metadata": {},
     "output_type": "execute_result"
    }
   ],
   "source": [
    "dispatch_if ('mul', 2, 8)"
   ]
  },
  {
   "cell_type": "code",
   "execution_count": 77,
   "id": "b0587f2c",
   "metadata": {},
   "outputs": [
    {
     "data": {
      "text/plain": [
       "-6"
      ]
     },
     "execution_count": 77,
     "metadata": {},
     "output_type": "execute_result"
    }
   ],
   "source": [
    "dispatch_if ('sub', 2, 8)"
   ]
  },
  {
   "cell_type": "code",
   "execution_count": 81,
   "id": "c44938fc",
   "metadata": {},
   "outputs": [
    {
     "name": "stdout",
     "output_type": "stream",
     "text": [
      "['rock', 'paper', 'scissors']\n",
      "[2, 8, 5, 1, 7, 3, 6, 'K', 4, 9, 'J', 'Q', 'A']\n"
     ]
    }
   ],
   "source": [
    "import random\n",
    "\n",
    "x = random.randint(1,6)\n",
    "y = random.random()\n",
    "\n",
    "myList =['rock', 'paper', 'scissors']\n",
    "z = random.choice(myList)\n",
    "\n",
    "cards = [1,2,3,4,5,6,7,8,9, \"J\", 'Q', 'K', 'A']\n",
    "random.shuffle(cards)\n",
    "\n",
    "print(myList)\n",
    "print(cards)"
   ]
  },
  {
   "cell_type": "code",
   "execution_count": 82,
   "id": "c0fab07a",
   "metadata": {},
   "outputs": [
    {
     "name": "stdout",
     "output_type": "stream",
     "text": [
      "Enter a number to divide: 5\n",
      "Enter a number to divide by: 2\n",
      "2.5\n",
      "This will always execute\n"
     ]
    }
   ],
   "source": [
    "\n",
    "# exception =   events detected during execution that interrupt the flow of a program\n",
    "\n",
    "try:\n",
    "    numerator = int(input(\"Enter a number to divide: \"))\n",
    "    denominator = int(input(\"Enter a number to divide by: \"))\n",
    "    result = numerator / denominator\n",
    "except ZeroDivisionError as e:\n",
    "    print(e)\n",
    "    print(\"You can't divide by zero! idiot!\")\n",
    "except ValueError as e:\n",
    "    print(e)\n",
    "    print(\"Enter only numbers plz\")\n",
    "except Exception as e:\n",
    "    print(e)\n",
    "    print(\"something went wrong :(\")\n",
    "else:\n",
    "    print(result)\n",
    "finally:\n",
    "    print(\"This will always execute\")"
   ]
  },
  {
   "cell_type": "code",
   "execution_count": 15,
   "id": "9df11844",
   "metadata": {},
   "outputs": [
    {
     "name": "stdout",
     "output_type": "stream",
     "text": [
      "That location doesn't exist!\n"
     ]
    }
   ],
   "source": [
    "import os\n",
    "\n",
    "path = \"C:Users\\mohamednahmed\\\\Desktop\\\\Practising-With-Python\"\n",
    "\n",
    "if os.path.exists(path):\n",
    "    print(\"That location exists!\")\n",
    "    if os.path.isfile(path):\n",
    "        print(\"That is a file\")\n",
    "    elif os.path.isdir(path):\n",
    "        print(\"That is a directory!\")\n",
    "else:\n",
    "    print(\"That location doesn't exist!\")"
   ]
  },
  {
   "cell_type": "code",
   "execution_count": 16,
   "id": "31d7dfb4",
   "metadata": {},
   "outputs": [
    {
     "name": "stdout",
     "output_type": "stream",
     "text": [
      "Yoooooo\n",
      "This is some text\n",
      "Have a good one!\n",
      "\n"
     ]
    }
   ],
   "source": [
    "try:\n",
    "    with open ('Text.txt') as file:\n",
    "        print(file.read())\n",
    "except FileNotFoundError:\n",
    "    print(\"That file was not found :()\")"
   ]
  },
  {
   "cell_type": "code",
   "execution_count": 18,
   "id": "c2c8e258",
   "metadata": {},
   "outputs": [],
   "source": [
    "text = \"Biryanniiii\"\n",
    "\n",
    "with open('Text.txt', 'a') as file:\n",
    "    file.write(text)"
   ]
  },
  {
   "cell_type": "code",
   "execution_count": 20,
   "id": "65436491",
   "metadata": {},
   "outputs": [
    {
     "data": {
      "text/plain": [
       "'copy.txt'"
      ]
     },
     "execution_count": 20,
     "metadata": {},
     "output_type": "execute_result"
    }
   ],
   "source": [
    "# copyfile() =  copies contents of a file\n",
    "# copy() =      copyfile() + permission mode + destination can be a directory\n",
    "# copy2() =     copy() + copies metadata (file’s creation and modification times)\n",
    "\n",
    "import shutil\n",
    "\n",
    "shutil.copyfile('Text.txt','copy.txt') #src,dst"
   ]
  },
  {
   "cell_type": "code",
   "execution_count": 22,
   "id": "8d1426b2",
   "metadata": {},
   "outputs": [
    {
     "name": "stdout",
     "output_type": "stream",
     "text": [
      "Test.txt was not found\n"
     ]
    }
   ],
   "source": [
    "import os \n",
    "\n",
    "source = \"Test.txt\"\n",
    "destination = \"C:Users\\mohamednahmed\\\\Desktop\\\\Practising-With-Python\"\n",
    "\n",
    "try:\n",
    "    if os.path.exists(destination):\n",
    "        print(\"There is already a file there\")\n",
    "    else:\n",
    "        os.replace(source,destination)\n",
    "        print(source+\" was moved\")\n",
    "except FileNotFoundError:\n",
    "    print(source+\" was not found\")"
   ]
  },
  {
   "cell_type": "code",
   "execution_count": 24,
   "id": "a718bc3c",
   "metadata": {},
   "outputs": [
    {
     "name": "stdout",
     "output_type": "stream",
     "text": [
      "That file was not found\n"
     ]
    }
   ],
   "source": [
    "import os\n",
    "import shutil\n",
    "\n",
    "path = \"C:Users\\mohamednahmed\\\\Desktop\\\\Practising-With-Python\\\\Test.txt\"\n",
    "\n",
    "try:\n",
    "    os.remove(path)    #delete a file\n",
    "    #os.rmdir(path)     #delete an empty directory\n",
    "    #shutil.rmtree(path)#delete a directory containing files\n",
    "except FileNotFoundError:\n",
    "    print(\"That file was not found\")\n",
    "except PermissionError:\n",
    "    print(\"You do not have permission to delete that\")\n",
    "except OSError:\n",
    "    print(\"You cannot delete that using that function\")\n",
    "else:\n",
    "    print(path+\" was deleted\")"
   ]
  },
  {
   "cell_type": "code",
   "execution_count": 25,
   "id": "4e44c353",
   "metadata": {},
   "outputs": [
    {
     "name": "stdout",
     "output_type": "stream",
     "text": [
      "rock, paper, or scissors?: paper\n",
      "computer:  scissors\n",
      "player:  paper\n",
      "You lose!\n",
      "Play again? (yes/no): no\n",
      "Bye!\n"
     ]
    }
   ],
   "source": [
    "import random\n",
    "\n",
    "while True:\n",
    "    choices = [\"rock\",\"paper\",\"scissors\"]\n",
    "\n",
    "    computer = random.choice(choices)\n",
    "    player = None\n",
    "\n",
    "    while player not in choices:\n",
    "        player = input(\"rock, paper, or scissors?: \").lower()\n",
    "\n",
    "    if player == computer:\n",
    "        print(\"computer: \",computer)\n",
    "        print(\"player: \",player)\n",
    "        print(\"Tie!\")\n",
    "\n",
    "    elif player == \"rock\":\n",
    "        if computer == \"paper\":\n",
    "            print(\"computer: \", computer)\n",
    "            print(\"player: \", player)\n",
    "            print(\"You lose!\")\n",
    "        if computer == \"scissors\":\n",
    "            print(\"computer: \", computer)\n",
    "            print(\"player: \", player)\n",
    "            print(\"You win!\")\n",
    "\n",
    "    elif player == \"scissors\":\n",
    "        if computer == \"rock\":\n",
    "            print(\"computer: \", computer)\n",
    "            print(\"player: \", player)\n",
    "            print(\"You lose!\")\n",
    "        if computer == \"paper\":\n",
    "            print(\"computer: \", computer)\n",
    "            print(\"player: \", player)\n",
    "            print(\"You win!\")\n",
    "\n",
    "    elif player == \"paper\":\n",
    "        if computer == \"scissors\":\n",
    "            print(\"computer: \", computer)\n",
    "            print(\"player: \", player)\n",
    "            print(\"You lose!\")\n",
    "        if computer == \"rock\":\n",
    "            print(\"computer: \", computer)\n",
    "            print(\"player: \", player)\n",
    "            print(\"You win!\")\n",
    "\n",
    "    play_again = input(\"Play again? (yes/no): \").lower()\n",
    "\n",
    "    if play_again != \"yes\":\n",
    "        break\n",
    "\n",
    "print(\"Bye!\")"
   ]
  },
  {
   "cell_type": "code",
   "execution_count": 1,
   "id": "f44102a6",
   "metadata": {},
   "outputs": [
    {
     "name": "stdout",
     "output_type": "stream",
     "text": [
      "-------------------------\n",
      "Who created Python?: \n",
      "A. Guido van Rossum\n",
      "B. Elon Musk\n",
      "C. Bill Gates\n",
      "D. Mark Zuckerburg\n",
      "Enter (A, B, C, or D): c\n",
      "WRONG!\n",
      "-------------------------\n",
      "What year was Python created?: \n",
      "A. 1989\n",
      "B. 1991\n",
      "C. 2000\n",
      "D. 2016\n",
      "Enter (A, B, C, or D): d\n",
      "WRONG!\n",
      "-------------------------\n",
      "Python is tributed to which comedy group?: \n",
      "A. Lonely Island\n",
      "B. Smosh\n",
      "C. Monty Python\n",
      "D. SNL\n",
      "Enter (A, B, C, or D): b\n",
      "WRONG!\n",
      "-------------------------\n",
      "Is the Earth round?: \n",
      "A. True\n",
      "B. False\n",
      "C. sometimes\n",
      "D. What's Earth?\n",
      "Enter (A, B, C, or D): a\n",
      "CORRECT!\n",
      "-------------------------\n",
      "RESULTS\n",
      "-------------------------\n",
      "Answers: A B C A \n",
      "Guesses: C D B A \n",
      "Your score is: 25%\n",
      "Do you want to play again? (yes or no): no\n",
      "Byeeeeee!\n"
     ]
    }
   ],
   "source": [
    "# -------------------------\n",
    "def new_game():\n",
    "\n",
    "    guesses = []\n",
    "    correct_guesses = 0\n",
    "    question_num = 1\n",
    "\n",
    "    for key in questions:\n",
    "        print(\"-------------------------\")\n",
    "        print(key)\n",
    "        for i in options[question_num-1]:\n",
    "            print(i)\n",
    "        guess = input(\"Enter (A, B, C, or D): \")\n",
    "        guess = guess.upper()\n",
    "        guesses.append(guess)\n",
    "\n",
    "        correct_guesses += check_answer(questions.get(key), guess)\n",
    "        question_num += 1\n",
    "\n",
    "    display_score(correct_guesses, guesses)\n",
    "\n",
    "# -------------------------\n",
    "def check_answer(answer, guess):\n",
    "\n",
    "    if answer == guess:\n",
    "        print(\"CORRECT!\")\n",
    "        return 1\n",
    "    else:\n",
    "        print(\"WRONG!\")\n",
    "        return 0\n",
    "\n",
    "# -------------------------\n",
    "def display_score(correct_guesses, guesses):\n",
    "    print(\"-------------------------\")\n",
    "    print(\"RESULTS\")\n",
    "    print(\"-------------------------\")\n",
    "\n",
    "    print(\"Answers: \", end=\"\")\n",
    "    for i in questions:\n",
    "        print(questions.get(i), end=\" \")\n",
    "    print()\n",
    "\n",
    "    print(\"Guesses: \", end=\"\")\n",
    "    for i in guesses:\n",
    "        print(i, end=\" \")\n",
    "    print()\n",
    "\n",
    "    score = int((correct_guesses/len(questions))*100)\n",
    "    print(\"Your score is: \"+str(score)+\"%\")\n",
    "\n",
    "# -------------------------\n",
    "def play_again():\n",
    "\n",
    "    response = input(\"Do you want to play again? (yes or no): \")\n",
    "    response = response.upper()\n",
    "\n",
    "    if response == \"YES\":\n",
    "        return True\n",
    "    else:\n",
    "        return False\n",
    "# -------------------------\n",
    "\n",
    "\n",
    "questions = {\n",
    " \"Who created Python?: \": \"A\",\n",
    " \"What year was Python created?: \": \"B\",\n",
    " \"Python is tributed to which comedy group?: \": \"C\",\n",
    " \"Is the Earth round?: \": \"A\"\n",
    "}\n",
    "\n",
    "options = [[\"A. Guido van Rossum\", \"B. Elon Musk\", \"C. Bill Gates\", \"D. Mark Zuckerburg\"],\n",
    "          [\"A. 1989\", \"B. 1991\", \"C. 2000\", \"D. 2016\"],\n",
    "          [\"A. Lonely Island\", \"B. Smosh\", \"C. Monty Python\", \"D. SNL\"],\n",
    "          [\"A. True\",\"B. False\", \"C. sometimes\", \"D. What's Earth?\"]]\n",
    "\n",
    "new_game()\n",
    "\n",
    "while play_again():\n",
    "    new_game()\n",
    "\n",
    "print(\"Byeeeeee!\")"
   ]
  },
  {
   "cell_type": "code",
   "execution_count": 4,
   "id": "631ccbae",
   "metadata": {},
   "outputs": [
    {
     "ename": "ModuleNotFoundError",
     "evalue": "No module named 'car'",
     "output_type": "error",
     "traceback": [
      "\u001b[0;31m---------------------------------------------------------------------------\u001b[0m",
      "\u001b[0;31mModuleNotFoundError\u001b[0m                       Traceback (most recent call last)",
      "\u001b[0;32m<ipython-input-4-a77ceae3d1d1>\u001b[0m in \u001b[0;36m<module>\u001b[0;34m\u001b[0m\n\u001b[0;32m----> 1\u001b[0;31m \u001b[0;32mfrom\u001b[0m \u001b[0mcar\u001b[0m \u001b[0;32mimport\u001b[0m \u001b[0mCar\u001b[0m\u001b[0;34m\u001b[0m\u001b[0;34m\u001b[0m\u001b[0m\n\u001b[0m\u001b[1;32m      2\u001b[0m \u001b[0;34m\u001b[0m\u001b[0m\n\u001b[1;32m      3\u001b[0m \u001b[0mcar_1\u001b[0m \u001b[0;34m=\u001b[0m \u001b[0mCar\u001b[0m\u001b[0;34m(\u001b[0m\u001b[0;34m\"Chevy\"\u001b[0m\u001b[0;34m,\u001b[0m \u001b[0;34m\"Corvette\"\u001b[0m\u001b[0;34m,\u001b[0m \u001b[0;36m2021\u001b[0m\u001b[0;34m,\u001b[0m \u001b[0;34m\"Blue\"\u001b[0m\u001b[0;34m)\u001b[0m\u001b[0;34m\u001b[0m\u001b[0;34m\u001b[0m\u001b[0m\n\u001b[1;32m      4\u001b[0m \u001b[0mcar_2\u001b[0m \u001b[0;34m=\u001b[0m \u001b[0mCar\u001b[0m\u001b[0;34m(\u001b[0m\u001b[0;34m\"Ford\"\u001b[0m\u001b[0;34m,\u001b[0m \u001b[0;34m\"Mustang\"\u001b[0m\u001b[0;34m,\u001b[0m \u001b[0;36m2022\u001b[0m\u001b[0;34m,\u001b[0m \u001b[0;34m\"Red\"\u001b[0m\u001b[0;34m)\u001b[0m\u001b[0;34m\u001b[0m\u001b[0;34m\u001b[0m\u001b[0m\n\u001b[1;32m      5\u001b[0m \u001b[0;34m\u001b[0m\u001b[0m\n",
      "\u001b[0;31mModuleNotFoundError\u001b[0m: No module named 'car'"
     ]
    }
   ],
   "source": [
    "from car import Car\n",
    "\n",
    "car_1 = Car(\"Chevy\", \"Corvette\", 2021, \"Blue\")\n",
    "car_2 = Car(\"Ford\", \"Mustang\", 2022, \"Red\")\n",
    "\n",
    "car_1.drive()\n",
    "car_2.stop()"
   ]
  },
  {
   "cell_type": "code",
   "execution_count": 5,
   "id": "654ed931",
   "metadata": {},
   "outputs": [],
   "source": [
    "class Car:\n",
    "\n",
    "    def __init__(self,make,model,year,color):\n",
    "        self.make = make\n",
    "        self.model = model\n",
    "        self.year = year\n",
    "        self.color = color\n",
    "\n",
    "    def drive(self):\n",
    "        print(\"This \"+self.model+\" is driving\")\n",
    "\n",
    "    def stop(self):\n",
    "        print(\"This \"+self.model+\" is stopped\")"
   ]
  },
  {
   "cell_type": "code",
   "execution_count": 6,
   "id": "d7e4b70b",
   "metadata": {},
   "outputs": [
    {
     "ename": "SyntaxError",
     "evalue": "invalid syntax (<ipython-input-6-c9a75c2a51bf>, line 1)",
     "output_type": "error",
     "traceback": [
      "\u001b[0;36m  File \u001b[0;32m\"<ipython-input-6-c9a75c2a51bf>\"\u001b[0;36m, line \u001b[0;32m1\u001b[0m\n\u001b[0;31m    Class Car:\u001b[0m\n\u001b[0m            ^\u001b[0m\n\u001b[0;31mSyntaxError\u001b[0m\u001b[0;31m:\u001b[0m invalid syntax\n"
     ]
    }
   ],
   "source": [
    "Class Car: \n",
    "    \n",
    "    wheels = 4 # class variable\n",
    "\n",
    "    def __init__(self,make,model,year,color):\n",
    "        self.make = make     # instance variable\n",
    "        self.model = model    # instance variable\n",
    "        self.year = year      # instance variable\n",
    "        self.color = color    # instance variable"
   ]
  },
  {
   "cell_type": "code",
   "execution_count": 7,
   "id": "cfe35429",
   "metadata": {},
   "outputs": [
    {
     "name": "stdout",
     "output_type": "stream",
     "text": [
      "True\n",
      "This animal is eating\n",
      "This animal is sleeping\n",
      "This rabbit is running\n",
      "This fish is swimming\n",
      "This hawk is flying\n"
     ]
    }
   ],
   "source": [
    "class Animal:\n",
    "\n",
    "    alive = True\n",
    "\n",
    "    def eat(self):\n",
    "        print(\"This animal is eating\")\n",
    "\n",
    "    def sleep(self):\n",
    "        print(\"This animal is sleeping\")\n",
    "\n",
    "class Rabbit(Animal):\n",
    "\n",
    "    def run(self):\n",
    "        print(\"This rabbit is running\")\n",
    "\n",
    "class Fish(Animal):\n",
    "\n",
    "    def swim(self):\n",
    "        print(\"This fish is swimming\")\n",
    "\n",
    "class Hawk(Animal):\n",
    "\n",
    "    def fly(self):\n",
    "        print(\"This hawk is flying\")\n",
    "\n",
    "\n",
    "rabbit = Rabbit()\n",
    "fish = Fish()\n",
    "hawk = Hawk()\n",
    "\n",
    "print(rabbit.alive)\n",
    "fish.eat()\n",
    "hawk.sleep()\n",
    "\n",
    "rabbit.run()\n",
    "fish.swim()\n",
    "hawk.fly()\n"
   ]
  },
  {
   "cell_type": "code",
   "execution_count": null,
   "id": "173ce4eb",
   "metadata": {},
   "outputs": [],
   "source": [
    "import optuna\n",
    "\n",
    "\n",
    "# Define an objective function to be minimized.\n",
    "def objective(trial):\n",
    "\n",
    "    # Invoke suggest methods of a Trial object to generate hyperparameters.\n",
    "    regressor_name = trial.suggest_categorical('regressor', ['SVR', 'RandomForest'])\n",
    "    if regressor_name == 'SVR':\n",
    "        svr_c = trial.suggest_float('svr_c', 1e-10, 1e10, log=True)\n",
    "        regressor_obj = sklearn.svm.SVR(C=svr_c)\n",
    "    else:\n",
    "        rf_max_depth = trial.suggest_int('rf_max_depth', 2, 32)\n",
    "        regressor_obj = sklearn.ensemble.RandomForestRegressor(max_depth=rf_max_depth)\n",
    "\n",
    "    X, y = sklearn.datasets.fetch_california_housing(return_X_y=True)\n",
    "    X_train, X_val, y_train, y_val = sklearn.model_selection.train_test_split(X, y, random_state=0)\n",
    "\n",
    "    regressor_obj.fit(X_train, y_train)\n",
    "    y_pred = regressor_obj.predict(X_val)\n",
    "\n",
    "    error = sklearn.metrics.mean_squared_error(y_val, y_pred)\n",
    "\n",
    "    return error  # An objective value linked with the Trial object.\n",
    "\n",
    "study = optuna.create_study()  # Create a new study.\n",
    "study.optimize(objective, n_trials=100)  # Invoke optimization of the objective function."
   ]
  },
  {
   "cell_type": "code",
   "execution_count": null,
   "id": "e24f71f1",
   "metadata": {},
   "outputs": [],
   "source": []
  }
 ],
 "metadata": {
  "kernelspec": {
   "display_name": "PythonData",
   "language": "python",
   "name": "pythondata"
  },
  "language_info": {
   "codemirror_mode": {
    "name": "ipython",
    "version": 3
   },
   "file_extension": ".py",
   "mimetype": "text/x-python",
   "name": "python",
   "nbconvert_exporter": "python",
   "pygments_lexer": "ipython3",
   "version": "3.7.10"
  }
 },
 "nbformat": 4,
 "nbformat_minor": 5
}
